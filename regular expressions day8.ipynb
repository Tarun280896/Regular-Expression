{
 "cells": [
  {
   "cell_type": "code",
   "execution_count": 1,
   "metadata": {},
   "outputs": [
    {
     "data": {
      "text/plain": [
       "['.ipynb_checkpoints',\n",
       " 'mbox-short.txt',\n",
       " 'myfile.txt',\n",
       " 'regular expressions day8.ipynb']"
      ]
     },
     "execution_count": 1,
     "metadata": {},
     "output_type": "execute_result"
    }
   ],
   "source": [
    "import os\n",
    "path=r'D:\\python\\regular expressions'\n",
    "os.chdir(path)\n",
    "os.listdir(path)\n"
   ]
  },
  {
   "cell_type": "code",
   "execution_count": 3,
   "metadata": {},
   "outputs": [
    {
     "name": "stdout",
     "output_type": "stream",
     "text": [
      "hello how are you? awksjfhadjfahsdflkasdjhfaskdfjhalsdk\n",
      "how about you? dfjkahsdfkh\n"
     ]
    }
   ],
   "source": [
    "import re\n",
    "\n",
    "fhand=open('myfile.txt')\n",
    "for line in fhand:\n",
    "    line = line.rstrip()\n",
    "    if re.search('how',line):\n",
    "        print(line)\n",
    "fhand.close()\n",
    "    "
   ]
  },
  {
   "cell_type": "code",
   "execution_count": 4,
   "metadata": {},
   "outputs": [
    {
     "name": "stdout",
     "output_type": "stream",
     "text": [
      "how about you? dfjkahsdfkh\n"
     ]
    }
   ],
   "source": [
    "fhand=open('myfile.txt')\n",
    "for line in fhand:\n",
    "    line = line.rstrip()\n",
    "    if re.search('^how',line):# displayes the words that starts with how.only those lines will be printed\n",
    "        print(line)\n",
    "fhand.close()"
   ]
  },
  {
   "cell_type": "code",
   "execution_count": null,
   "metadata": {},
   "outputs": [],
   "source": [
    "fhand=open('myfile.txt')\n",
    "for line in fhand:\n",
    "    line = line.rstrip()\n",
    "    if re.search[]:# displayes the words that starts with how.only those lines will be printed\n",
    "        print(line)\n",
    "fhand.close()"
   ]
  },
  {
   "cell_type": "code",
   "execution_count": 5,
   "metadata": {},
   "outputs": [
    {
     "name": "stdout",
     "output_type": "stream",
     "text": [
      "I am doing good\n",
      "I  m doing good\n"
     ]
    }
   ],
   "source": [
    "fhand=open('myfile.txt')\n",
    "for line in fhand:\n",
    "    line = line.rstrip()\n",
    "    if re.search('^I..m',line):# displayes the words that starts with how.only those lines will be printed\n",
    "        print(line)\n",
    "fhand.close()"
   ]
  },
  {
   "cell_type": "code",
   "execution_count": 9,
   "metadata": {},
   "outputs": [],
   "source": [
    "fhand=open('myfile.txt')\n",
    "for line in fhand:\n",
    "    line = line.rstrip()\n",
    "    if re.search('^I.......m',line):# displayes the words that starts with how.only those lines will be printed\n",
    "        print(line)\n",
    "fhand.close()"
   ]
  },
  {
   "cell_type": "code",
   "execution_count": 10,
   "metadata": {},
   "outputs": [
    {
     "name": "stdout",
     "output_type": "stream",
     "text": [
      "hello how are you? awksjfhadjfahsdflkasdjhfaskdfjhalsdk\n",
      "I am doing good\n",
      "how about you? dfjkahsdfkh\n",
      "I  m doing good\n",
      "I'm a mudderer\n"
     ]
    }
   ],
   "source": [
    "fhand=open('myfile.txt')\n",
    "for line in fhand:\n",
    "    line = line.rstrip()\n",
    "    if re.search(\"[^I..m]\",line):# displayes the words that starts with how.only those lines will be printed\n",
    "        print(line)\n",
    "fhand.close()"
   ]
  },
  {
   "cell_type": "code",
   "execution_count": 11,
   "metadata": {},
   "outputs": [
    {
     "name": "stdout",
     "output_type": "stream",
     "text": [
      "hello how are you? awksjfhadjfahsdflkasdjhfaskdfjhalsdk\n",
      "how about you? dfjkahsdfkh\n"
     ]
    }
   ],
   "source": [
    "fhand=open('myfile.txt')\n",
    "for line in fhand:\n",
    "    line = line.rstrip()\n",
    "    if re.search('^h.+u',line):# displayes the words that starts with how.only those lines will be printed\n",
    "        print(line)\n",
    "fhand.close()"
   ]
  },
  {
   "cell_type": "code",
   "execution_count": 12,
   "metadata": {},
   "outputs": [
    {
     "name": "stdout",
     "output_type": "stream",
     "text": [
      "From: louis@media.berkeley.edu\n",
      "From: zqian@umich.edu\n",
      "From: rjlowe@iupui.edu\n",
      "From: zqian@umich.edu\n",
      "From: rjlowe@iupui.edu\n",
      "From: cwen@iupui.edu\n",
      "From: cwen@iupui.edu\n",
      "From: gsilver@umich.edu\n",
      "From: gsilver@umich.edu\n",
      "From: zqian@umich.edu\n",
      "From: gsilver@umich.edu\n",
      "From: wagnermr@iupui.edu\n",
      "From: zqian@umich.edu\n",
      "From: louis@media.berkeley.edu\n",
      "From: louis@media.berkeley.edu\n",
      "From: ray@media.berkeley.edu\n",
      "From: cwen@iupui.edu\n",
      "From: cwen@iupui.edu\n",
      "From: cwen@iupui.edu\n"
     ]
    }
   ],
   "source": [
    "fhand=open('mbox-short.txt')\n",
    "for line in fhand:\n",
    "    line = line.rstrip()\n",
    "    if re.search('^From.+edu$',line):# displayes the words that starts with how.only those lines will be printed\n",
    "        print(line)\n",
    "fhand.close()"
   ]
  },
  {
   "cell_type": "code",
   "execution_count": 4,
   "metadata": {},
   "outputs": [
    {
     "name": "stdout",
     "output_type": "stream",
     "text": [
      "From: louis@media.berkeley.edu\n",
      "From: zqian@umich.edu\n",
      "From: rjlowe@iupui.edu\n",
      "From: zqian@umich.edu\n",
      "From: rjlowe@iupui.edu\n",
      "From: cwen@iupui.edu\n",
      "From: cwen@iupui.edu\n",
      "From: gsilver@umich.edu\n",
      "From: gsilver@umich.edu\n",
      "From: zqian@umich.edu\n",
      "From: gsilver@umich.edu\n",
      "From: wagnermr@iupui.edu\n",
      "From: zqian@umich.edu\n",
      "From: louis@media.berkeley.edu\n",
      "From: louis@media.berkeley.edu\n",
      "From: ray@media.berkeley.edu\n",
      "From: cwen@iupui.edu\n",
      "From: cwen@iupui.edu\n",
      "From: cwen@iupui.edu\n",
      "no of line's are: 19\n"
     ]
    }
   ],
   "source": [
    "fhand=open('mbox-short.txt')\n",
    "count =0\n",
    "for line in fhand:\n",
    "    line = line.rstrip()\n",
    "    if re.search('^From.+edu$',line):# displayes the words that starts with how.only those lines will be printed\n",
    "            count+=1\n",
    "            print(line)\n",
    "print(\"no of line's are:\",count)        \n",
    "fhand.close()"
   ]
  },
  {
   "cell_type": "markdown",
   "metadata": {},
   "source": [
    "# finding from at biginning and edu ant the end "
   ]
  },
  {
   "cell_type": "code",
   "execution_count": null,
   "metadata": {},
   "outputs": [],
   "source": [
    "\n",
    "fhand=open('mbox-short.txt')\n",
    "count =0\n",
    "for line in fhand:\n",
    "    line = line.rstrip()\n",
    "    if re.search('^[Ff]rom.+edu$',line):# displayes the words that starts with how.only those lines will be printed\n",
    "            count+=1\n",
    "            print(line)\n",
    "print(\"no of line's are:\",count)        \n",
    "fhand.close()"
   ]
  },
  {
   "cell_type": "code",
   "execution_count": null,
   "metadata": {},
   "outputs": [],
   "source": [
    "fhand=open('mbox-short.txt')\n",
    "count =0\n",
    "count1 =0\n",
    "for line in fhand:\n",
    "    line = line.rstrip()\n",
    "    count+=1\n",
    "    if re.search('^[Ff]rom.*edu$',line):# displayes the words that starts with how.only those lines will be printed\n",
    "            count1+=1\n",
    "            print('line no:',count,line)\n",
    "print(\"no of line's are:\",count1)        \n",
    "fhand.close()"
   ]
  },
  {
   "cell_type": "markdown",
   "metadata": {},
   "source": [
    "# extract all the lines eding with digit"
   ]
  },
  {
   "cell_type": "code",
   "execution_count": null,
   "metadata": {},
   "outputs": [],
   "source": [
    "fhand=open('mbox-short.txt')\n",
    "count =0\n",
    "count1 =0\n",
    "for line in fhand:\n",
    "    line = line.rstrip()\n",
    "    count+=1\n",
    "    if re.search('[0-9]$',line):# displayes the words that starts with how.only those lines will be printed\n",
    "            count1+=1\n",
    "            print('line no:',count,line)\n",
    "print(\"no of line's are:\",count1)        \n",
    "fhand.close()"
   ]
  },
  {
   "cell_type": "code",
   "execution_count": null,
   "metadata": {},
   "outputs": [],
   "source": [
    "fhand=open('mbox-short.txt')\n",
    "count =0\n",
    "count1 =0\n",
    "for line in fhand:\n",
    "    line = line.rstrip()\n",
    "    count+=1\n",
    "    if re.search('\\d$',line):# displayes the words that starts with how.only those lines will be printed\n",
    "            count1+=1\n",
    "            print('line no:',count,line)\n",
    "print(\"no of line's are:\",count1)        \n",
    "fhand.close()"
   ]
  },
  {
   "cell_type": "markdown",
   "metadata": {},
   "source": [
    "# line must be started with anything other that lower case alphabets and digits"
   ]
  },
  {
   "cell_type": "code",
   "execution_count": null,
   "metadata": {},
   "outputs": [],
   "source": [
    "fhand=open('mbox-short.txt')\n",
    "count =0\n",
    "count1 =0\n",
    "for line in fhand:\n",
    "    line = line.rstrip()\n",
    "    count+=1\n",
    "    if re.search('^[^a-z0-9].*$',line):# displayes the words that starts with how.only those lines will be printed\n",
    "            count1+=1\n",
    "            print('line no:',count,line)\n",
    "print(\"no of line's are:\",count1)        \n",
    "fhand.close()"
   ]
  },
  {
   "cell_type": "code",
   "execution_count": null,
   "metadata": {},
   "outputs": [],
   "source": [
    "fhand=open('mbox-short.txt')\n",
    "count =0\n",
    "count1 =0\n",
    "for line in fhand:\n",
    "    line = line.rstrip()\n",
    "    count+=1\n",
    "    if re.search('^[^a-z0-9].*$',line):# displayes the words that starts with how.only those lines will be printed\n",
    "            count1+=1\n",
    "            print('line no:',count,line)\n",
    "print(\"no of line's are:\",count1)        \n",
    "fhand.close()"
   ]
  },
  {
   "cell_type": "markdown",
   "metadata": {},
   "source": [
    "# line should start with caps letter followed by zero or more char's but must end with any digit"
   ]
  },
  {
   "cell_type": "code",
   "execution_count": null,
   "metadata": {},
   "outputs": [],
   "source": [
    "fhand=open('mbox-short.txt')\n",
    "count =0\n",
    "count1 =0\n",
    "for line in fhand:\n",
    "    line = line.rstrip()\n",
    "    count+=1\n",
    "    if re.search('^[A-Z].*[0-9]$',line):# displayes the words that starts with how.only those lines will be printed\n",
    "            count1+=1\n",
    "            print('line no:',count,line)\n",
    "print(\"no of line's are:\",count1)        \n",
    "fhand.close()"
   ]
  },
  {
   "cell_type": "markdown",
   "metadata": {},
   "source": [
    "# findall"
   ]
  },
  {
   "cell_type": "code",
   "execution_count": null,
   "metadata": {},
   "outputs": [],
   "source": [
    "fhand=open('mbox-short.txt')\n",
    "count =0\n",
    "count1 =0\n",
    "for line in fhand:\n",
    "    line = line.rstrip()\n",
    "    count+=1\n",
    "    ls=re.findall('^\\S+@\\S+$',line):# displayes the words that starts with how.only those lines will be printed\n",
    "            count1+=1\n",
    "            print('line no:',count,ls)\n",
    "print(\"no of line's are:\",count1)        \n",
    "fhand.close()#wrong"
   ]
  },
  {
   "cell_type": "code",
   "execution_count": null,
   "metadata": {},
   "outputs": [],
   "source": [
    "import re\n",
    "s='A message form tarun@gmail.com to koundinya@gmail.com about meeting @2pm'\n",
    "ls=re.findall('\\S+@\\S+',s)\n",
    "print(ls)"
   ]
  },
  {
   "cell_type": "code",
   "execution_count": null,
   "metadata": {},
   "outputs": [],
   "source": [
    "import re\n",
    "s='A message form tarun@gmail.com to koundinya@gmail.com about meeting @2pm'\n",
    "ls=re.findall('@\\S+',s)\n",
    "print(ls)"
   ]
  },
  {
   "cell_type": "code",
   "execution_count": null,
   "metadata": {},
   "outputs": [],
   "source": [
    "import re\n",
    "s='A message form tarun@gmail.com to koundinya@gmail.com about meeting @2pm'\n",
    "lt=s.split()\n",
    "lt=re.findall('\\S+@\\S+',s)\n",
    "print(lt)\n",
    "for i in lt:\n",
    "    p=i.find('@')\n",
    "    print(i[p+1:])\n",
    "    \n",
    "#print(lp)"
   ]
  },
  {
   "cell_type": "code",
   "execution_count": null,
   "metadata": {},
   "outputs": [],
   "source": [
    "fhand = open('mbox-short.txt')\n",
    "for l in fhand:\n",
    "    l=l.rsplit()\n",
    "    l=re.findall('\\S+@\\S+',s)\n",
    "    print(line)\n",
    "\n"
   ]
  },
  {
   "cell_type": "code",
   "execution_count": 5,
   "metadata": {},
   "outputs": [
    {
     "name": "stdout",
     "output_type": "stream",
     "text": [
      "['stephen.marquard@uct.ac.z', 'postmaster@collab.sakaiproject.o', '200801051412.m05ECIaH010327@nakamura.uits.iupui.e', 'source@collab.sakaiproject.o', 'source@collab.sakaiproject.o', 'source@collab.sakaiproject.o', 'source@collab.sakaiproject.o', 'stephen.marquard@uct.ac.z', 'source@collab.sakaiproject.o', 'stephen.marquard@uct.ac.z', 'stephen.marquard@uct.ac.z', 'louis@media.berkeley.e', 'postmaster@collab.sakaiproject.o', '200801042308.m04N8v6O008125@nakamura.uits.iupui.e', 'source@collab.sakaiproject.o', 'source@collab.sakaiproject.o', 'source@collab.sakaiproject.o', 'source@collab.sakaiproject.o', 'louis@media.berkeley.e', 'source@collab.sakaiproject.o', 'louis@media.berkeley.e', 'louis@media.berkeley.e', 'zqian@umich.e', 'postmaster@collab.sakaiproject.o', '200801042109.m04L92hb007923@nakamura.uits.iupui.e', 'source@collab.sakaiproject.o', 'source@collab.sakaiproject.o', 'source@collab.sakaiproject.o', 'source@collab.sakaiproject.o', 'zqian@umich.e', 'source@collab.sakaiproject.o', 'zqian@umich.e', 'zqian@umich.e', 'rjlowe@iupui.e', 'postmaster@collab.sakaiproject.o', '200801042044.m04Kiem3007881@nakamura.uits.iupui.e', 'source@collab.sakaiproject.o', 'source@collab.sakaiproject.o', 'source@collab.sakaiproject.o', 'source@collab.sakaiproject.o', 'rjlowe@iupui.e', 'source@collab.sakaiproject.o', 'rjlowe@iupui.e', 'rjlowe@iupui.e', 'zqian@umich.e', 'postmaster@collab.sakaiproject.o', '200801042001.m04K1cO0007738@nakamura.uits.iupui.e', 'source@collab.sakaiproject.o', 'source@collab.sakaiproject.o', 'source@collab.sakaiproject.o', 'source@collab.sakaiproject.o', 'zqian@umich.e', 'source@collab.sakaiproject.o', 'zqian@umich.e', 'zqian@umich.e', 'zqian@umich.e', 'rjlowe@iupui.e', 'postmaster@collab.sakaiproject.o', '200801041948.m04JmdwO007705@nakamura.uits.iupui.e', 'source@collab.sakaiproject.o', 'source@collab.sakaiproject.o', 'source@collab.sakaiproject.o', 'source@collab.sakaiproject.o', 'rjlowe@iupui.e', 'source@collab.sakaiproject.o', 'rjlowe@iupui.e', 'rjlowe@iupui.e', 'cwen@iupui.e', 'postmaster@collab.sakaiproject.o', '200801041635.m04GZQGZ007313@nakamura.uits.iupui.e', 'source@collab.sakaiproject.o', 'source@collab.sakaiproject.o', 'source@collab.sakaiproject.o', 'source@collab.sakaiproject.o', 'cwen@iupui.e', 'source@collab.sakaiproject.o', 'cwen@iupui.e', 'cwen@iupui.e', 'hu2@iupui.e', 'cwen@iupui.e', 'postmaster@collab.sakaiproject.o', '200801041633.m04GX6eG007292@nakamura.uits.iupui.e', 'source@collab.sakaiproject.o', 'source@collab.sakaiproject.o', 'source@collab.sakaiproject.o', 'source@collab.sakaiproject.o', 'cwen@iupui.e', 'source@collab.sakaiproject.o', 'cwen@iupui.e', 'cwen@iupui.e', 'hu2@iupui.e', 'gsilver@umich.e', 'postmaster@collab.sakaiproject.o', '200801041611.m04GB1Lb007221@nakamura.uits.iupui.e', 'source@collab.sakaiproject.o', 'source@collab.sakaiproject.o', 'source@collab.sakaiproject.o', 'source@collab.sakaiproject.o', 'gsilver@umich.e', 'source@collab.sakaiproject.o', 'gsilver@umich.e', 'gsilver@umich.e', 'gsilver@umich.e', 'postmaster@collab.sakaiproject.o', '200801041610.m04GA5KP007209@nakamura.uits.iupui.e', 'source@collab.sakaiproject.o', 'source@collab.sakaiproject.o', 'source@collab.sakaiproject.o', 'source@collab.sakaiproject.o', 'gsilver@umich.e', 'source@collab.sakaiproject.o', 'gsilver@umich.e', 'gsilver@umich.e', 'zqian@umich.e', 'postmaster@collab.sakaiproject.o', '200801041609.m04G9EuX007197@nakamura.uits.iupui.e', 'source@collab.sakaiproject.o', 'source@collab.sakaiproject.o', 'source@collab.sakaiproject.o', 'source@collab.sakaiproject.o', 'zqian@umich.e', 'source@collab.sakaiproject.o', 'zqian@umich.e', 'zqian@umich.e', 'gsilver@umich.e', 'postmaster@collab.sakaiproject.o', '200801041608.m04G8d7w007184@nakamura.uits.iupui.e', 'source@collab.sakaiproject.o', 'source@collab.sakaiproject.o', 'source@collab.sakaiproject.o', 'source@collab.sakaiproject.o', 'gsilver@umich.e', 'source@collab.sakaiproject.o', 'gsilver@umich.e', 'gsilver@umich.e', 'wagnermr@iupui.e', 'postmaster@collab.sakaiproject.o', '200801041537.m04Fb6Ci007092@nakamura.uits.iupui.e', 'source@collab.sakaiproject.o', 'source@collab.sakaiproject.o', 'source@collab.sakaiproject.o', 'source@collab.sakaiproject.o', 'wagnermr@iupui.e', 'source@collab.sakaiproject.o', 'wagnermr@iupui.e', 'wagnermr@iupui.e', 'zqian@umich.e', 'postmaster@collab.sakaiproject.o', '200801041515.m04FFv42007050@nakamura.uits.iupui.e', 'source@collab.sakaiproject.o', 'source@collab.sakaiproject.o', 'source@collab.sakaiproject.o', 'source@collab.sakaiproject.o', 'zqian@umich.e', 'source@collab.sakaiproject.o', 'zqian@umich.e', 'zqian@umich.e', 'antranig@caret.cam.ac.u', 'postmaster@collab.sakaiproject.o', '200801041502.m04F21Jo007031@nakamura.uits.iupui.e', 'source@collab.sakaiproject.o', 'source@collab.sakaiproject.o', 'source@collab.sakaiproject.o', 'source@collab.sakaiproject.o', 'antranig@caret.cam.ac.u', 'source@collab.sakaiproject.o', 'antranig@caret.cam.ac.u', 'antranig@caret.cam.ac.u', 'gopal.ramasammycook@gmail.c', 'postmaster@collab.sakaiproject.o', '200801041403.m04E3psW006926@nakamura.uits.iupui.e', 'source@collab.sakaiproject.o', 'source@collab.sakaiproject.o', 'source@collab.sakaiproject.o', 'source@collab.sakaiproject.o', 'gopal.ramasammycook@gmail.c', 'source@collab.sakaiproject.o', 'gopal.ramasammycook@gmail.c', 'gopal.ramasammycook@gmail.c', 'david.horwitz@uct.ac.z', 'postmaster@collab.sakaiproject.o', '200801041200.m04C0gfK006793@nakamura.uits.iupui.e', 'source@collab.sakaiproject.o', 'source@collab.sakaiproject.o', 'source@collab.sakaiproject.o', 'source@collab.sakaiproject.o', 'david.horwitz@uct.ac.z', 'source@collab.sakaiproject.o', 'david.horwitz@uct.ac.z', 'david.horwitz@uct.ac.z', 'david.horwitz@uct.ac.z', 'david.horwitz@uct.ac.z', 'postmaster@collab.sakaiproject.o', '200801041106.m04B6lK3006677@nakamura.uits.iupui.e', 'source@collab.sakaiproject.o', 'source@collab.sakaiproject.o', 'source@collab.sakaiproject.o', 'source@collab.sakaiproject.o', 'david.horwitz@uct.ac.z', 'source@collab.sakaiproject.o', 'david.horwitz@uct.ac.z', 'david.horwitz@uct.ac.z', 'david.horwitz@uct.ac.z', 'postmaster@collab.sakaiproject.o', '200801040947.m049lUxo006517@nakamura.uits.iupui.e', 'source@collab.sakaiproject.o', 'source@collab.sakaiproject.o', 'source@collab.sakaiproject.o', 'source@collab.sakaiproject.o', 'david.horwitz@uct.ac.z', 'source@collab.sakaiproject.o', 'david.horwitz@uct.ac.z', 'david.horwitz@uct.ac.z', 'josrodri@iupui.e', 'david.horwitz@uct.ac.z', 'postmaster@collab.sakaiproject.o', '200801040932.m049W2i5006493@nakamura.uits.iupui.e', 'source@collab.sakaiproject.o', 'source@collab.sakaiproject.o', 'source@collab.sakaiproject.o', 'source@collab.sakaiproject.o', 'david.horwitz@uct.ac.z', 'source@collab.sakaiproject.o', 'david.horwitz@uct.ac.z', 'david.horwitz@uct.ac.z', 'josrodri@iupui.e', 'stephen.marquard@uct.ac.z', 'postmaster@collab.sakaiproject.o', '200801040905.m0495rWB006420@nakamura.uits.iupui.e', 'source@collab.sakaiproject.o', 'source@collab.sakaiproject.o', 'source@collab.sakaiproject.o', 'source@collab.sakaiproject.o', 'stephen.marquard@uct.ac.z', 'source@collab.sakaiproject.o', 'stephen.marquard@uct.ac.z', 'stephen.marquard@uct.ac.z', 'louis@media.berkeley.e', 'postmaster@collab.sakaiproject.o', '200801040023.m040NpCc005473@nakamura.uits.iupui.e', 'source@collab.sakaiproject.o', 'source@collab.sakaiproject.o', 'source@collab.sakaiproject.o', 'source@collab.sakaiproject.o', 'louis@media.berkeley.e', 'source@collab.sakaiproject.o', 'louis@media.berkeley.e', 'louis@media.berkeley.e', 'louis@media.berkeley.e', 'postmaster@collab.sakaiproject.o', '200801032216.m03MGhDa005292@nakamura.uits.iupui.e', 'source@collab.sakaiproject.o', 'source@collab.sakaiproject.o', 'source@collab.sakaiproject.o', 'source@collab.sakaiproject.o', 'louis@media.berkeley.e', 'source@collab.sakaiproject.o', 'louis@media.berkeley.e', 'louis@media.berkeley.e', 'ray@media.berkeley.e', 'postmaster@collab.sakaiproject.o', '200801032205.m03M5Ea7005273@nakamura.uits.iupui.e', 'source@collab.sakaiproject.o', 'source@collab.sakaiproject.o', 'source@collab.sakaiproject.o', 'source@collab.sakaiproject.o', 'ray@media.berkeley.e', 'source@collab.sakaiproject.o', 'ray@media.berkeley.e', 'ray@media.berkeley.e', 'cwen@iupui.e', 'postmaster@collab.sakaiproject.o', '200801032133.m03LX3gG005191@nakamura.uits.iupui.e', 'source@collab.sakaiproject.o', 'source@collab.sakaiproject.o', 'source@collab.sakaiproject.o', 'source@collab.sakaiproject.o', 'cwen@iupui.e', 'source@collab.sakaiproject.o', 'cwen@iupui.e', 'cwen@iupui.e', 'cwen@iupui.e', 'postmaster@collab.sakaiproject.o', '200801032127.m03LRUqH005177@nakamura.uits.iupui.e', 'source@collab.sakaiproject.o', 'source@collab.sakaiproject.o', 'source@collab.sakaiproject.o', 'source@collab.sakaiproject.o', 'cwen@iupui.e', 'source@collab.sakaiproject.o', 'cwen@iupui.e', 'cwen@iupui.e', 'wagnermr@iupui.e', 'cwen@iupui.e', 'postmaster@collab.sakaiproject.o', '200801032122.m03LMFo4005148@nakamura.uits.iupui.e', 'source@collab.sakaiproject.o', 'source@collab.sakaiproject.o', 'source@collab.sakaiproject.o', 'source@collab.sakaiproject.o', 'cwen@iupui.e', 'source@collab.sakaiproject.o', 'cwen@iupui.e', 'cwen@iupui.e', 'wagnermr@iupui.e']\n"
     ]
    }
   ],
   "source": [
    "#finding all the email-id form a given file\n",
    "import re\n",
    "lst=[]\n",
    "fopen=open('mbox-short.txt')\n",
    "for line in fopen:\n",
    "    line=line.rstrip()\n",
    "    ls=re.findall('[a-zA-Z0-9]\\S+@\\S+[a-zA-Z][.][a-zA-Z]',line)\n",
    "    if len(ls)>0:\n",
    "        #print(ls)        \n",
    "        lst.extend(ls)\n",
    "print(lst)"
   ]
  },
  {
   "cell_type": "code",
   "execution_count": null,
   "metadata": {},
   "outputs": [],
   "source": [
    "import re\n",
    "lst=[]\n",
    "fopen=open('mbox-short.txt')\n",
    "for line in fopen:\n",
    "    line=line.rstrip()\n",
    "    ls=re.findall('^X\\S*: [0-9.]+',line)\n",
    "    if len(ls)>0:\n",
    "        lst.extend(ls)\n",
    "print(lst)"
   ]
  },
  {
   "cell_type": "code",
   "execution_count": null,
   "metadata": {},
   "outputs": [],
   "source": [
    "fhand=open('mbox-short.txt')\n",
    "count =0\n",
    "count1 =0\n",
    "for line in fhand:\n",
    "    line = line.rstrip()\n",
    "    count+=1\n",
    "    if re.search('^X\\S*: [0-9.]+',line):# displayes the words that starts with how.only those lines will be printed\n",
    "            count1+=1\n",
    "            print('line no:',count,line)\n",
    "print(\"no of line's are:\",count1)        \n",
    "fhand.close()"
   ]
  },
  {
   "cell_type": "markdown",
   "metadata": {},
   "source": [
    "# finding hyper links from the given file eg:Details: http://source.sakaiproject.org/viewsvn/?view=rev&rev=39771"
   ]
  },
  {
   "cell_type": "code",
   "execution_count": null,
   "metadata": {},
   "outputs": [],
   "source": [
    "fhand=open('mbox-short.txt')\n",
    "count =0\n",
    "count1 =0\n",
    "for line in fhand:\n",
    "    line = line.rstrip()\n",
    "    count+=1\n",
    "    if re.search('^D\\S*: h\\S*=[0-9]',line):# displayes the words that starts with how.only those lines will be printed\n",
    "            count1+=1\n",
    "            print('line no:',count,line)\n",
    "print(\"no of line's are:\",count1)        \n",
    "fhand.close()"
   ]
  },
  {
   "cell_type": "code",
   "execution_count": null,
   "metadata": {},
   "outputs": [],
   "source": [
    "import re\n",
    "lst=[]\n",
    "fopen=open('mbox-short.txt')\n",
    "for line in fopen:\n",
    "    line=line.rstrip()\n",
    "    #ls=re.findall('^D\\S*: h\\S*=[0-9.]+',line)\n",
    "    ls=re.findall('^D\\S*: h\\S*=[0-9.]+',line)\n",
    "    \n",
    "    if len(ls)>0:\n",
    "        lst.extend(ls)\n",
    "        \n",
    "print(lst)\n",
    "        \n",
    "#print(lst)\n"
   ]
  },
  {
   "cell_type": "code",
   "execution_count": null,
   "metadata": {},
   "outputs": [],
   "source": [
    "import re\n",
    "lst=[]\n",
    "fopen=open('mbox-short.txt')\n",
    "for line in fopen:\n",
    "    line=line.rstrip()\n",
    "    #ls=re.findall('^D\\S*:.*rev=([0-9.]+)',line)\n",
    "    ls=re.findall('^Details:.*rev=([0-9.]+)',line)#maam's logic\n",
    "    if len(ls)>0:\n",
    "        lst.extend(ls)\n",
    "print(lst)\n",
    "        \n",
    "#print(lst)\n"
   ]
  },
  {
   "cell_type": "markdown",
   "metadata": {},
   "source": [
    "# pulling out the time from the given file. eg:From louis@media.berkeley.edu Fri Jan  4 18:10:48 2008"
   ]
  },
  {
   "cell_type": "code",
   "execution_count": 50,
   "metadata": {},
   "outputs": [
    {
     "name": "stdout",
     "output_type": "stream",
     "text": [
      "['09', '18', '16', '15', '15', '14', '11', '11', '11', '11', '11', '11', '10', '10', '10', '09', '07', '06', '04', '04', '04', '19', '17', '17', '16', '16', '16']\n"
     ]
    }
   ],
   "source": [
    "import re\n",
    "lst=[]\n",
    "fopen=open('mbox-short.txt')\n",
    "for line in fopen:\n",
    "    line=line.rstrip()\n",
    "    #ls=re.findall('^D\\S*:.*rev=([0-9.]+)',line)\n",
    "    #ls=re.findall('^From.* ([0-9]{2}):[0-9]{2}.*',line)\n",
    "    ls=re.findall('^From.* ([0-9]{2}):',line)#maam's logic\n",
    "    if len(ls)>0:\n",
    "        lst.extend(ls)\n",
    "print(lst)\n",
    "        \n",
    "#print(lst)\n"
   ]
  },
  {
   "cell_type": "code",
   "execution_count": 24,
   "metadata": {},
   "outputs": [
    {
     "name": "stdout",
     "output_type": "stream",
     "text": [
      "line no: 1 From stephen.marquard@uct.ac.za Sat Jan  5 09:14:16 2008\n",
      "line no: 66 From louis@media.berkeley.edu Fri Jan  4 18:10:48 2008\n",
      "line no: 131 From zqian@umich.edu Fri Jan  4 16:10:39 2008\n",
      "line no: 195 From rjlowe@iupui.edu Fri Jan  4 15:46:24 2008\n",
      "line no: 263 From zqian@umich.edu Fri Jan  4 15:03:18 2008\n",
      "line no: 336 From rjlowe@iupui.edu Fri Jan  4 14:50:18 2008\n",
      "line no: 415 From cwen@iupui.edu Fri Jan  4 11:37:30 2008\n",
      "line no: 494 From cwen@iupui.edu Fri Jan  4 11:35:08 2008\n",
      "line no: 573 From gsilver@umich.edu Fri Jan  4 11:12:37 2008\n",
      "line no: 639 From gsilver@umich.edu Fri Jan  4 11:11:52 2008\n",
      "line no: 705 From zqian@umich.edu Fri Jan  4 11:11:03 2008\n",
      "line no: 770 From gsilver@umich.edu Fri Jan  4 11:10:22 2008\n",
      "line no: 836 From wagnermr@iupui.edu Fri Jan  4 10:38:42 2008\n",
      "line no: 905 From zqian@umich.edu Fri Jan  4 10:17:43 2008\n",
      "line no: 970 From antranig@caret.cam.ac.uk Fri Jan  4 10:04:14 2008\n",
      "line no: 1047 From gopal.ramasammycook@gmail.com Fri Jan  4 09:05:31 2008\n",
      "line no: 1121 From david.horwitz@uct.ac.za Fri Jan  4 07:02:32 2008\n",
      "line no: 1207 From david.horwitz@uct.ac.za Fri Jan  4 06:08:27 2008\n",
      "line no: 1276 From david.horwitz@uct.ac.za Fri Jan  4 04:49:08 2008\n",
      "line no: 1354 From david.horwitz@uct.ac.za Fri Jan  4 04:33:44 2008\n",
      "line no: 1440 From stephen.marquard@uct.ac.za Fri Jan  4 04:07:34 2008\n",
      "line no: 1504 From louis@media.berkeley.edu Thu Jan  3 19:51:21 2008\n",
      "line no: 1569 From louis@media.berkeley.edu Thu Jan  3 17:18:23 2008\n",
      "line no: 1634 From ray@media.berkeley.edu Thu Jan  3 17:07:00 2008\n",
      "line no: 1698 From cwen@iupui.edu Thu Jan  3 16:34:40 2008\n",
      "line no: 1763 From cwen@iupui.edu Thu Jan  3 16:29:07 2008\n",
      "line no: 1838 From cwen@iupui.edu Thu Jan  3 16:23:48 2008\n",
      "no of line's are: 27\n"
     ]
    }
   ],
   "source": [
    "import re\n",
    "fhand=open('mbox-short.txt')\n",
    "count =0\n",
    "count1 =0\n",
    "for line in fhand:\n",
    "    line = line.rstrip()\n",
    "    count+=1\n",
    "    if re.findall('^From.*([0-9]{2}):.*',line):# displayes the words that starts with how.only those lines will be printed @\\S+[a-zA-Z][.][a-zA-Z]\n",
    "            count1+=1\n",
    "            print('line no:',count,line)\n",
    "print(\"no of line's are:\",count1)        \n",
    "fhand.close()"
   ]
  },
  {
   "cell_type": "code",
   "execution_count": 20,
   "metadata": {},
   "outputs": [
    {
     "name": "stdout",
     "output_type": "stream",
     "text": [
      "[('09', 6)]\n",
      "[('09', 6), ('18', 2)]\n",
      "[('09', 6), ('18', 2), ('16', 6)]\n",
      "[('09', 6), ('18', 2), ('16', 6), ('15', 4)]\n",
      "[('09', 6), ('18', 2), ('16', 6), ('15', 4), ('15', 4)]\n",
      "[('09', 6), ('18', 2), ('16', 6), ('15', 4), ('15', 4), ('14', 2)]\n",
      "[('09', 6), ('18', 2), ('16', 6), ('15', 4), ('15', 4), ('14', 2), ('11', 11)]\n",
      "[('09', 6), ('18', 2), ('16', 6), ('15', 4), ('15', 4), ('14', 2), ('11', 11), ('11', 11)]\n",
      "[('09', 6), ('18', 2), ('16', 6), ('15', 4), ('15', 4), ('14', 2), ('11', 11), ('11', 11), ('11', 11)]\n",
      "[('09', 6), ('18', 2), ('16', 6), ('15', 4), ('15', 4), ('14', 2), ('11', 11), ('11', 11), ('11', 11), ('11', 11)]\n",
      "[('09', 6), ('18', 2), ('16', 6), ('15', 4), ('15', 4), ('14', 2), ('11', 11), ('11', 11), ('11', 11), ('11', 11), ('11', 11)]\n",
      "[('09', 6), ('18', 2), ('16', 6), ('15', 4), ('15', 4), ('14', 2), ('11', 11), ('11', 11), ('11', 11), ('11', 11), ('11', 11), ('11', 11)]\n",
      "[('09', 6), ('18', 2), ('16', 6), ('15', 4), ('15', 4), ('14', 2), ('11', 11), ('11', 11), ('11', 11), ('11', 11), ('11', 11), ('11', 11), ('10', 8)]\n",
      "[('09', 6), ('18', 2), ('16', 6), ('15', 4), ('15', 4), ('14', 2), ('11', 11), ('11', 11), ('11', 11), ('11', 11), ('11', 11), ('11', 11), ('10', 8), ('10', 8)]\n",
      "[('09', 6), ('18', 2), ('16', 6), ('15', 4), ('15', 4), ('14', 2), ('11', 11), ('11', 11), ('11', 11), ('11', 11), ('11', 11), ('11', 11), ('10', 8), ('10', 8), ('10', 8)]\n",
      "[('09', 6), ('18', 2), ('16', 6), ('15', 4), ('15', 4), ('14', 2), ('11', 11), ('11', 11), ('11', 11), ('11', 11), ('11', 11), ('11', 11), ('10', 8), ('10', 8), ('10', 8), ('09', 6)]\n",
      "[('09', 6), ('18', 2), ('16', 6), ('15', 4), ('15', 4), ('14', 2), ('11', 11), ('11', 11), ('11', 11), ('11', 11), ('11', 11), ('11', 11), ('10', 8), ('10', 8), ('10', 8), ('09', 6), ('07', 3)]\n",
      "[('09', 6), ('18', 2), ('16', 6), ('15', 4), ('15', 4), ('14', 2), ('11', 11), ('11', 11), ('11', 11), ('11', 11), ('11', 11), ('11', 11), ('10', 8), ('10', 8), ('10', 8), ('09', 6), ('07', 3), ('06', 2)]\n",
      "[('09', 6), ('18', 2), ('16', 6), ('15', 4), ('15', 4), ('14', 2), ('11', 11), ('11', 11), ('11', 11), ('11', 11), ('11', 11), ('11', 11), ('10', 8), ('10', 8), ('10', 8), ('09', 6), ('07', 3), ('06', 2), ('04', 5)]\n",
      "[('09', 6), ('18', 2), ('16', 6), ('15', 4), ('15', 4), ('14', 2), ('11', 11), ('11', 11), ('11', 11), ('11', 11), ('11', 11), ('11', 11), ('10', 8), ('10', 8), ('10', 8), ('09', 6), ('07', 3), ('06', 2), ('04', 5), ('04', 5)]\n",
      "[('09', 6), ('18', 2), ('16', 6), ('15', 4), ('15', 4), ('14', 2), ('11', 11), ('11', 11), ('11', 11), ('11', 11), ('11', 11), ('11', 11), ('10', 8), ('10', 8), ('10', 8), ('09', 6), ('07', 3), ('06', 2), ('04', 5), ('04', 5), ('04', 5)]\n",
      "[('09', 6), ('18', 2), ('16', 6), ('15', 4), ('15', 4), ('14', 2), ('11', 11), ('11', 11), ('11', 11), ('11', 11), ('11', 11), ('11', 11), ('10', 8), ('10', 8), ('10', 8), ('09', 6), ('07', 3), ('06', 2), ('04', 5), ('04', 5), ('04', 5), ('19', 1)]\n",
      "[('09', 6), ('18', 2), ('16', 6), ('15', 4), ('15', 4), ('14', 2), ('11', 11), ('11', 11), ('11', 11), ('11', 11), ('11', 11), ('11', 11), ('10', 8), ('10', 8), ('10', 8), ('09', 6), ('07', 3), ('06', 2), ('04', 5), ('04', 5), ('04', 5), ('19', 1), ('17', 3)]\n",
      "[('09', 6), ('18', 2), ('16', 6), ('15', 4), ('15', 4), ('14', 2), ('11', 11), ('11', 11), ('11', 11), ('11', 11), ('11', 11), ('11', 11), ('10', 8), ('10', 8), ('10', 8), ('09', 6), ('07', 3), ('06', 2), ('04', 5), ('04', 5), ('04', 5), ('19', 1), ('17', 3), ('17', 3)]\n",
      "[('09', 6), ('18', 2), ('16', 6), ('15', 4), ('15', 4), ('14', 2), ('11', 11), ('11', 11), ('11', 11), ('11', 11), ('11', 11), ('11', 11), ('10', 8), ('10', 8), ('10', 8), ('09', 6), ('07', 3), ('06', 2), ('04', 5), ('04', 5), ('04', 5), ('19', 1), ('17', 3), ('17', 3), ('16', 6)]\n",
      "[('09', 6), ('18', 2), ('16', 6), ('15', 4), ('15', 4), ('14', 2), ('11', 11), ('11', 11), ('11', 11), ('11', 11), ('11', 11), ('11', 11), ('10', 8), ('10', 8), ('10', 8), ('09', 6), ('07', 3), ('06', 2), ('04', 5), ('04', 5), ('04', 5), ('19', 1), ('17', 3), ('17', 3), ('16', 6), ('16', 6)]\n",
      "[('09', 6), ('18', 2), ('16', 6), ('15', 4), ('15', 4), ('14', 2), ('11', 11), ('11', 11), ('11', 11), ('11', 11), ('11', 11), ('11', 11), ('10', 8), ('10', 8), ('10', 8), ('09', 6), ('07', 3), ('06', 2), ('04', 5), ('04', 5), ('04', 5), ('19', 1), ('17', 3), ('17', 3), ('16', 6), ('16', 6), ('16', 6)]\n",
      "[('09', 6), ('18', 2), ('16', 6), ('15', 4), ('15', 4), ('14', 2), ('11', 11), ('11', 11), ('11', 11), ('11', 11), ('11', 11), ('11', 11), ('10', 8), ('10', 8), ('10', 8), ('09', 6), ('07', 3), ('06', 2), ('04', 5), ('04', 5), ('04', 5), ('19', 1), ('17', 3), ('17', 3), ('16', 6), ('16', 6), ('16', 6), ('14', 2)]\n",
      "[('09', 6), ('18', 2), ('16', 6), ('15', 4), ('15', 4), ('14', 2), ('11', 11), ('11', 11), ('11', 11), ('11', 11), ('11', 11), ('11', 11), ('10', 8), ('10', 8), ('10', 8), ('09', 6), ('07', 3), ('06', 2), ('04', 5), ('04', 5), ('04', 5), ('19', 1), ('17', 3), ('17', 3), ('16', 6), ('16', 6), ('16', 6), ('14', 2), ('12', 3)]\n",
      "[('09', 6), ('18', 2), ('16', 6), ('15', 4), ('15', 4), ('14', 2), ('11', 11), ('11', 11), ('11', 11), ('11', 11), ('11', 11), ('11', 11), ('10', 8), ('10', 8), ('10', 8), ('09', 6), ('07', 3), ('06', 2), ('04', 5), ('04', 5), ('04', 5), ('19', 1), ('17', 3), ('17', 3), ('16', 6), ('16', 6), ('16', 6), ('14', 2), ('12', 3), ('12', 3)]\n",
      "[('09', 6), ('18', 2), ('16', 6), ('15', 4), ('15', 4), ('14', 2), ('11', 11), ('11', 11), ('11', 11), ('11', 11), ('11', 11), ('11', 11), ('10', 8), ('10', 8), ('10', 8), ('09', 6), ('07', 3), ('06', 2), ('04', 5), ('04', 5), ('04', 5), ('19', 1), ('17', 3), ('17', 3), ('16', 6), ('16', 6), ('16', 6), ('14', 2), ('12', 3), ('12', 3), ('32', 2)]\n",
      "[('09', 6), ('18', 2), ('16', 6), ('15', 4), ('15', 4), ('14', 2), ('11', 11), ('11', 11), ('11', 11), ('11', 11), ('11', 11), ('11', 11), ('10', 8), ('10', 8), ('10', 8), ('09', 6), ('07', 3), ('06', 2), ('04', 5), ('04', 5), ('04', 5), ('19', 1), ('17', 3), ('17', 3), ('16', 6), ('16', 6), ('16', 6), ('14', 2), ('12', 3), ('12', 3), ('32', 2), ('10', 8)]\n",
      "[('09', 6), ('18', 2), ('16', 6), ('15', 4), ('15', 4), ('14', 2), ('11', 11), ('11', 11), ('11', 11), ('11', 11), ('11', 11), ('11', 11), ('10', 8), ('10', 8), ('10', 8), ('09', 6), ('07', 3), ('06', 2), ('04', 5), ('04', 5), ('04', 5), ('19', 1), ('17', 3), ('17', 3), ('16', 6), ('16', 6), ('16', 6), ('14', 2), ('12', 3), ('12', 3), ('32', 2), ('10', 8), ('08', 5)]\n",
      "[('09', 6), ('18', 2), ('16', 6), ('15', 4), ('15', 4), ('14', 2), ('11', 11), ('11', 11), ('11', 11), ('11', 11), ('11', 11), ('11', 11), ('10', 8), ('10', 8), ('10', 8), ('09', 6), ('07', 3), ('06', 2), ('04', 5), ('04', 5), ('04', 5), ('19', 1), ('17', 3), ('17', 3), ('16', 6), ('16', 6), ('16', 6), ('14', 2), ('12', 3), ('12', 3), ('32', 2), ('10', 8), ('08', 5), ('08', 5)]\n",
      "[('09', 6), ('18', 2), ('16', 6), ('15', 4), ('15', 4), ('14', 2), ('11', 11), ('11', 11), ('11', 11), ('11', 11), ('11', 11), ('11', 11), ('10', 8), ('10', 8), ('10', 8), ('09', 6), ('07', 3), ('06', 2), ('04', 5), ('04', 5), ('04', 5), ('19', 1), ('17', 3), ('17', 3), ('16', 6), ('16', 6), ('16', 6), ('14', 2), ('12', 3), ('12', 3), ('32', 2), ('10', 8), ('08', 5), ('08', 5), ('10', 8)]\n",
      "[('09', 6), ('18', 2), ('16', 6), ('15', 4), ('15', 4), ('14', 2), ('11', 11), ('11', 11), ('11', 11), ('11', 11), ('11', 11), ('11', 11), ('10', 8), ('10', 8), ('10', 8), ('09', 6), ('07', 3), ('06', 2), ('04', 5), ('04', 5), ('04', 5), ('19', 1), ('17', 3), ('17', 3), ('16', 6), ('16', 6), ('16', 6), ('14', 2), ('12', 3), ('12', 3), ('32', 2), ('10', 8), ('08', 5), ('08', 5), ('10', 8), ('09', 6)]\n",
      "[('09', 6), ('18', 2), ('16', 6), ('15', 4), ('15', 4), ('14', 2), ('11', 11), ('11', 11), ('11', 11), ('11', 11), ('11', 11), ('11', 11), ('10', 8), ('10', 8), ('10', 8), ('09', 6), ('07', 3), ('06', 2), ('04', 5), ('04', 5), ('04', 5), ('19', 1), ('17', 3), ('17', 3), ('16', 6), ('16', 6), ('16', 6), ('14', 2), ('12', 3), ('12', 3), ('32', 2), ('10', 8), ('08', 5), ('08', 5), ('10', 8), ('09', 6), ('09', 6)]\n",
      "[('09', 6), ('18', 2), ('16', 6), ('15', 4), ('15', 4), ('14', 2), ('11', 11), ('11', 11), ('11', 11), ('11', 11), ('11', 11), ('11', 11), ('10', 8), ('10', 8), ('10', 8), ('09', 6), ('07', 3), ('06', 2), ('04', 5), ('04', 5), ('04', 5), ('19', 1), ('17', 3), ('17', 3), ('16', 6), ('16', 6), ('16', 6), ('14', 2), ('12', 3), ('12', 3), ('32', 2), ('10', 8), ('08', 5), ('08', 5), ('10', 8), ('09', 6), ('09', 6), ('87', 1)]\n",
      "[('09', 6), ('18', 2), ('16', 6), ('15', 4), ('15', 4), ('14', 2), ('11', 11), ('11', 11), ('11', 11), ('11', 11), ('11', 11), ('11', 11), ('10', 8), ('10', 8), ('10', 8), ('09', 6), ('07', 3), ('06', 2), ('04', 5), ('04', 5), ('04', 5), ('19', 1), ('17', 3), ('17', 3), ('16', 6), ('16', 6), ('16', 6), ('14', 2), ('12', 3), ('12', 3), ('32', 2), ('10', 8), ('08', 5), ('08', 5), ('10', 8), ('09', 6), ('09', 6), ('87', 1), ('46', 1)]\n",
      "[('09', 6), ('18', 2), ('16', 6), ('15', 4), ('15', 4), ('14', 2), ('11', 11), ('11', 11), ('11', 11), ('11', 11), ('11', 11), ('11', 11), ('10', 8), ('10', 8), ('10', 8), ('09', 6), ('07', 3), ('06', 2), ('04', 5), ('04', 5), ('04', 5), ('19', 1), ('17', 3), ('17', 3), ('16', 6), ('16', 6), ('16', 6), ('14', 2), ('12', 3), ('12', 3), ('32', 2), ('10', 8), ('08', 5), ('08', 5), ('10', 8), ('09', 6), ('09', 6), ('87', 1), ('46', 1), ('44', 2)]\n",
      "[('09', 6), ('18', 2), ('16', 6), ('15', 4), ('15', 4), ('14', 2), ('11', 11), ('11', 11), ('11', 11), ('11', 11), ('11', 11), ('11', 11), ('10', 8), ('10', 8), ('10', 8), ('09', 6), ('07', 3), ('06', 2), ('04', 5), ('04', 5), ('04', 5), ('19', 1), ('17', 3), ('17', 3), ('16', 6), ('16', 6), ('16', 6), ('14', 2), ('12', 3), ('12', 3), ('32', 2), ('10', 8), ('08', 5), ('08', 5), ('10', 8), ('09', 6), ('09', 6), ('87', 1), ('46', 1), ('44', 2), ('44', 2)]\n",
      "[('09', 6), ('18', 2), ('16', 6), ('15', 4), ('15', 4), ('14', 2), ('11', 11), ('11', 11), ('11', 11), ('11', 11), ('11', 11), ('11', 11), ('10', 8), ('10', 8), ('10', 8), ('09', 6), ('07', 3), ('06', 2), ('04', 5), ('04', 5), ('04', 5), ('19', 1), ('17', 3), ('17', 3), ('16', 6), ('16', 6), ('16', 6), ('14', 2), ('12', 3), ('12', 3), ('32', 2), ('10', 8), ('08', 5), ('08', 5), ('10', 8), ('09', 6), ('09', 6), ('87', 1), ('46', 1), ('44', 2), ('44', 2), ('03', 2)]\n",
      "[('09', 6), ('18', 2), ('16', 6), ('15', 4), ('15', 4), ('14', 2), ('11', 11), ('11', 11), ('11', 11), ('11', 11), ('11', 11), ('11', 11), ('10', 8), ('10', 8), ('10', 8), ('09', 6), ('07', 3), ('06', 2), ('04', 5), ('04', 5), ('04', 5), ('19', 1), ('17', 3), ('17', 3), ('16', 6), ('16', 6), ('16', 6), ('14', 2), ('12', 3), ('12', 3), ('32', 2), ('10', 8), ('08', 5), ('08', 5), ('10', 8), ('09', 6), ('09', 6), ('87', 1), ('46', 1), ('44', 2), ('44', 2), ('03', 2), ('01', 3)]\n",
      "[('09', 6), ('18', 2), ('16', 6), ('15', 4), ('15', 4), ('14', 2), ('11', 11), ('11', 11), ('11', 11), ('11', 11), ('11', 11), ('11', 11), ('10', 8), ('10', 8), ('10', 8), ('09', 6), ('07', 3), ('06', 2), ('04', 5), ('04', 5), ('04', 5), ('19', 1), ('17', 3), ('17', 3), ('16', 6), ('16', 6), ('16', 6), ('14', 2), ('12', 3), ('12', 3), ('32', 2), ('10', 8), ('08', 5), ('08', 5), ('10', 8), ('09', 6), ('09', 6), ('87', 1), ('46', 1), ('44', 2), ('44', 2), ('03', 2), ('01', 3), ('01', 3)]\n",
      "[('09', 6), ('18', 2), ('16', 6), ('15', 4), ('15', 4), ('14', 2), ('11', 11), ('11', 11), ('11', 11), ('11', 11), ('11', 11), ('11', 11), ('10', 8), ('10', 8), ('10', 8), ('09', 6), ('07', 3), ('06', 2), ('04', 5), ('04', 5), ('04', 5), ('19', 1), ('17', 3), ('17', 3), ('16', 6), ('16', 6), ('16', 6), ('14', 2), ('12', 3), ('12', 3), ('32', 2), ('10', 8), ('08', 5), ('08', 5), ('10', 8), ('09', 6), ('09', 6), ('87', 1), ('46', 1), ('44', 2), ('44', 2), ('03', 2), ('01', 3), ('01', 3), ('88', 1)]\n",
      "[('09', 6), ('18', 2), ('16', 6), ('15', 4), ('15', 4), ('14', 2), ('11', 11), ('11', 11), ('11', 11), ('11', 11), ('11', 11), ('11', 11), ('10', 8), ('10', 8), ('10', 8), ('09', 6), ('07', 3), ('06', 2), ('04', 5), ('04', 5), ('04', 5), ('19', 1), ('17', 3), ('17', 3), ('16', 6), ('16', 6), ('16', 6), ('14', 2), ('12', 3), ('12', 3), ('32', 2), ('10', 8), ('08', 5), ('08', 5), ('10', 8), ('09', 6), ('09', 6), ('87', 1), ('46', 1), ('44', 2), ('44', 2), ('03', 2), ('01', 3), ('01', 3), ('88', 1), ('50', 1)]\n",
      "[('09', 6), ('18', 2), ('16', 6), ('15', 4), ('15', 4), ('14', 2), ('11', 11), ('11', 11), ('11', 11), ('11', 11), ('11', 11), ('11', 11), ('10', 8), ('10', 8), ('10', 8), ('09', 6), ('07', 3), ('06', 2), ('04', 5), ('04', 5), ('04', 5), ('19', 1), ('17', 3), ('17', 3), ('16', 6), ('16', 6), ('16', 6), ('14', 2), ('12', 3), ('12', 3), ('32', 2), ('10', 8), ('08', 5), ('08', 5), ('10', 8), ('09', 6), ('09', 6), ('87', 1), ('46', 1), ('44', 2), ('44', 2), ('03', 2), ('01', 3), ('01', 3), ('88', 1), ('50', 1), ('48', 2)]\n",
      "[('09', 6), ('18', 2), ('16', 6), ('15', 4), ('15', 4), ('14', 2), ('11', 11), ('11', 11), ('11', 11), ('11', 11), ('11', 11), ('11', 11), ('10', 8), ('10', 8), ('10', 8), ('09', 6), ('07', 3), ('06', 2), ('04', 5), ('04', 5), ('04', 5), ('19', 1), ('17', 3), ('17', 3), ('16', 6), ('16', 6), ('16', 6), ('14', 2), ('12', 3), ('12', 3), ('32', 2), ('10', 8), ('08', 5), ('08', 5), ('10', 8), ('09', 6), ('09', 6), ('87', 1), ('46', 1), ('44', 2), ('44', 2), ('03', 2), ('01', 3), ('01', 3), ('88', 1), ('50', 1), ('48', 2), ('48', 2)]\n",
      "[('09', 6), ('18', 2), ('16', 6), ('15', 4), ('15', 4), ('14', 2), ('11', 11), ('11', 11), ('11', 11), ('11', 11), ('11', 11), ('11', 11), ('10', 8), ('10', 8), ('10', 8), ('09', 6), ('07', 3), ('06', 2), ('04', 5), ('04', 5), ('04', 5), ('19', 1), ('17', 3), ('17', 3), ('16', 6), ('16', 6), ('16', 6), ('14', 2), ('12', 3), ('12', 3), ('32', 2), ('10', 8), ('08', 5), ('08', 5), ('10', 8), ('09', 6), ('09', 6), ('87', 1), ('46', 1), ('44', 2), ('44', 2), ('03', 2), ('01', 3), ('01', 3), ('88', 1), ('50', 1), ('48', 2), ('48', 2), ('37', 3)]\n",
      "[('09', 6), ('18', 2), ('16', 6), ('15', 4), ('15', 4), ('14', 2), ('11', 11), ('11', 11), ('11', 11), ('11', 11), ('11', 11), ('11', 11), ('10', 8), ('10', 8), ('10', 8), ('09', 6), ('07', 3), ('06', 2), ('04', 5), ('04', 5), ('04', 5), ('19', 1), ('17', 3), ('17', 3), ('16', 6), ('16', 6), ('16', 6), ('14', 2), ('12', 3), ('12', 3), ('32', 2), ('10', 8), ('08', 5), ('08', 5), ('10', 8), ('09', 6), ('09', 6), ('87', 1), ('46', 1), ('44', 2), ('44', 2), ('03', 2), ('01', 3), ('01', 3), ('88', 1), ('50', 1), ('48', 2), ('48', 2), ('37', 3), ('35', 3)]\n",
      "[('09', 6), ('18', 2), ('16', 6), ('15', 4), ('15', 4), ('14', 2), ('11', 11), ('11', 11), ('11', 11), ('11', 11), ('11', 11), ('11', 11), ('10', 8), ('10', 8), ('10', 8), ('09', 6), ('07', 3), ('06', 2), ('04', 5), ('04', 5), ('04', 5), ('19', 1), ('17', 3), ('17', 3), ('16', 6), ('16', 6), ('16', 6), ('14', 2), ('12', 3), ('12', 3), ('32', 2), ('10', 8), ('08', 5), ('08', 5), ('10', 8), ('09', 6), ('09', 6), ('87', 1), ('46', 1), ('44', 2), ('44', 2), ('03', 2), ('01', 3), ('01', 3), ('88', 1), ('50', 1), ('48', 2), ('48', 2), ('37', 3), ('35', 3), ('35', 3)]\n",
      "[('09', 6), ('18', 2), ('16', 6), ('15', 4), ('15', 4), ('14', 2), ('11', 11), ('11', 11), ('11', 11), ('11', 11), ('11', 11), ('11', 11), ('10', 8), ('10', 8), ('10', 8), ('09', 6), ('07', 3), ('06', 2), ('04', 5), ('04', 5), ('04', 5), ('19', 1), ('17', 3), ('17', 3), ('16', 6), ('16', 6), ('16', 6), ('14', 2), ('12', 3), ('12', 3), ('32', 2), ('10', 8), ('08', 5), ('08', 5), ('10', 8), ('09', 6), ('09', 6), ('87', 1), ('46', 1), ('44', 2), ('44', 2), ('03', 2), ('01', 3), ('01', 3), ('88', 1), ('50', 1), ('48', 2), ('48', 2), ('37', 3), ('35', 3), ('35', 3), ('58', 1)]\n",
      "[('09', 6), ('18', 2), ('16', 6), ('15', 4), ('15', 4), ('14', 2), ('11', 11), ('11', 11), ('11', 11), ('11', 11), ('11', 11), ('11', 11), ('10', 8), ('10', 8), ('10', 8), ('09', 6), ('07', 3), ('06', 2), ('04', 5), ('04', 5), ('04', 5), ('19', 1), ('17', 3), ('17', 3), ('16', 6), ('16', 6), ('16', 6), ('14', 2), ('12', 3), ('12', 3), ('32', 2), ('10', 8), ('08', 5), ('08', 5), ('10', 8), ('09', 6), ('09', 6), ('87', 1), ('46', 1), ('44', 2), ('44', 2), ('03', 2), ('01', 3), ('01', 3), ('88', 1), ('50', 1), ('48', 2), ('48', 2), ('37', 3), ('35', 3), ('35', 3), ('58', 1), ('35', 3)]\n",
      "[('09', 6), ('18', 2), ('16', 6), ('15', 4), ('15', 4), ('14', 2), ('11', 11), ('11', 11), ('11', 11), ('11', 11), ('11', 11), ('11', 11), ('10', 8), ('10', 8), ('10', 8), ('09', 6), ('07', 3), ('06', 2), ('04', 5), ('04', 5), ('04', 5), ('19', 1), ('17', 3), ('17', 3), ('16', 6), ('16', 6), ('16', 6), ('14', 2), ('12', 3), ('12', 3), ('32', 2), ('10', 8), ('08', 5), ('08', 5), ('10', 8), ('09', 6), ('09', 6), ('87', 1), ('46', 1), ('44', 2), ('44', 2), ('03', 2), ('01', 3), ('01', 3), ('88', 1), ('50', 1), ('48', 2), ('48', 2), ('37', 3), ('35', 3), ('35', 3), ('58', 1), ('35', 3), ('33', 5)]\n",
      "[('09', 6), ('18', 2), ('16', 6), ('15', 4), ('15', 4), ('14', 2), ('11', 11), ('11', 11), ('11', 11), ('11', 11), ('11', 11), ('11', 11), ('10', 8), ('10', 8), ('10', 8), ('09', 6), ('07', 3), ('06', 2), ('04', 5), ('04', 5), ('04', 5), ('19', 1), ('17', 3), ('17', 3), ('16', 6), ('16', 6), ('16', 6), ('14', 2), ('12', 3), ('12', 3), ('32', 2), ('10', 8), ('08', 5), ('08', 5), ('10', 8), ('09', 6), ('09', 6), ('87', 1), ('46', 1), ('44', 2), ('44', 2), ('03', 2), ('01', 3), ('01', 3), ('88', 1), ('50', 1), ('48', 2), ('48', 2), ('37', 3), ('35', 3), ('35', 3), ('58', 1), ('35', 3), ('33', 5), ('33', 5)]\n",
      "[('09', 6), ('18', 2), ('16', 6), ('15', 4), ('15', 4), ('14', 2), ('11', 11), ('11', 11), ('11', 11), ('11', 11), ('11', 11), ('11', 11), ('10', 8), ('10', 8), ('10', 8), ('09', 6), ('07', 3), ('06', 2), ('04', 5), ('04', 5), ('04', 5), ('19', 1), ('17', 3), ('17', 3), ('16', 6), ('16', 6), ('16', 6), ('14', 2), ('12', 3), ('12', 3), ('32', 2), ('10', 8), ('08', 5), ('08', 5), ('10', 8), ('09', 6), ('09', 6), ('87', 1), ('46', 1), ('44', 2), ('44', 2), ('03', 2), ('01', 3), ('01', 3), ('88', 1), ('50', 1), ('48', 2), ('48', 2), ('37', 3), ('35', 3), ('35', 3), ('58', 1), ('35', 3), ('33', 5), ('33', 5), ('71', 1)]\n",
      "[('09', 6), ('18', 2), ('16', 6), ('15', 4), ('15', 4), ('14', 2), ('11', 11), ('11', 11), ('11', 11), ('11', 11), ('11', 11), ('11', 11), ('10', 8), ('10', 8), ('10', 8), ('09', 6), ('07', 3), ('06', 2), ('04', 5), ('04', 5), ('04', 5), ('19', 1), ('17', 3), ('17', 3), ('16', 6), ('16', 6), ('16', 6), ('14', 2), ('12', 3), ('12', 3), ('32', 2), ('10', 8), ('08', 5), ('08', 5), ('10', 8), ('09', 6), ('09', 6), ('87', 1), ('46', 1), ('44', 2), ('44', 2), ('03', 2), ('01', 3), ('01', 3), ('88', 1), ('50', 1), ('48', 2), ('48', 2), ('37', 3), ('35', 3), ('35', 3), ('58', 1), ('35', 3), ('33', 5), ('33', 5), ('71', 1), ('12', 3)]\n",
      "[('09', 6), ('18', 2), ('16', 6), ('15', 4), ('15', 4), ('14', 2), ('11', 11), ('11', 11), ('11', 11), ('11', 11), ('11', 11), ('11', 11), ('10', 8), ('10', 8), ('10', 8), ('09', 6), ('07', 3), ('06', 2), ('04', 5), ('04', 5), ('04', 5), ('19', 1), ('17', 3), ('17', 3), ('16', 6), ('16', 6), ('16', 6), ('14', 2), ('12', 3), ('12', 3), ('32', 2), ('10', 8), ('08', 5), ('08', 5), ('10', 8), ('09', 6), ('09', 6), ('87', 1), ('46', 1), ('44', 2), ('44', 2), ('03', 2), ('01', 3), ('01', 3), ('88', 1), ('50', 1), ('48', 2), ('48', 2), ('37', 3), ('35', 3), ('35', 3), ('58', 1), ('35', 3), ('33', 5), ('33', 5), ('71', 1), ('12', 3), ('11', 11)]\n",
      "[('09', 6), ('18', 2), ('16', 6), ('15', 4), ('15', 4), ('14', 2), ('11', 11), ('11', 11), ('11', 11), ('11', 11), ('11', 11), ('11', 11), ('10', 8), ('10', 8), ('10', 8), ('09', 6), ('07', 3), ('06', 2), ('04', 5), ('04', 5), ('04', 5), ('19', 1), ('17', 3), ('17', 3), ('16', 6), ('16', 6), ('16', 6), ('14', 2), ('12', 3), ('12', 3), ('32', 2), ('10', 8), ('08', 5), ('08', 5), ('10', 8), ('09', 6), ('09', 6), ('87', 1), ('46', 1), ('44', 2), ('44', 2), ('03', 2), ('01', 3), ('01', 3), ('88', 1), ('50', 1), ('48', 2), ('48', 2), ('37', 3), ('35', 3), ('35', 3), ('58', 1), ('35', 3), ('33', 5), ('33', 5), ('71', 1), ('12', 3), ('11', 11), ('11', 11)]\n",
      "[('09', 6), ('18', 2), ('16', 6), ('15', 4), ('15', 4), ('14', 2), ('11', 11), ('11', 11), ('11', 11), ('11', 11), ('11', 11), ('11', 11), ('10', 8), ('10', 8), ('10', 8), ('09', 6), ('07', 3), ('06', 2), ('04', 5), ('04', 5), ('04', 5), ('19', 1), ('17', 3), ('17', 3), ('16', 6), ('16', 6), ('16', 6), ('14', 2), ('12', 3), ('12', 3), ('32', 2), ('10', 8), ('08', 5), ('08', 5), ('10', 8), ('09', 6), ('09', 6), ('87', 1), ('46', 1), ('44', 2), ('44', 2), ('03', 2), ('01', 3), ('01', 3), ('88', 1), ('50', 1), ('48', 2), ('48', 2), ('37', 3), ('35', 3), ('35', 3), ('58', 1), ('35', 3), ('33', 5), ('33', 5), ('71', 1), ('12', 3), ('11', 11), ('11', 11), ('11', 11)]\n",
      "[('09', 6), ('18', 2), ('16', 6), ('15', 4), ('15', 4), ('14', 2), ('11', 11), ('11', 11), ('11', 11), ('11', 11), ('11', 11), ('11', 11), ('10', 8), ('10', 8), ('10', 8), ('09', 6), ('07', 3), ('06', 2), ('04', 5), ('04', 5), ('04', 5), ('19', 1), ('17', 3), ('17', 3), ('16', 6), ('16', 6), ('16', 6), ('14', 2), ('12', 3), ('12', 3), ('32', 2), ('10', 8), ('08', 5), ('08', 5), ('10', 8), ('09', 6), ('09', 6), ('87', 1), ('46', 1), ('44', 2), ('44', 2), ('03', 2), ('01', 3), ('01', 3), ('88', 1), ('50', 1), ('48', 2), ('48', 2), ('37', 3), ('35', 3), ('35', 3), ('58', 1), ('35', 3), ('33', 5), ('33', 5), ('71', 1), ('12', 3), ('11', 11), ('11', 11), ('11', 11), ('10', 8)]\n",
      "[('09', 6), ('18', 2), ('16', 6), ('15', 4), ('15', 4), ('14', 2), ('11', 11), ('11', 11), ('11', 11), ('11', 11), ('11', 11), ('11', 11), ('10', 8), ('10', 8), ('10', 8), ('09', 6), ('07', 3), ('06', 2), ('04', 5), ('04', 5), ('04', 5), ('19', 1), ('17', 3), ('17', 3), ('16', 6), ('16', 6), ('16', 6), ('14', 2), ('12', 3), ('12', 3), ('32', 2), ('10', 8), ('08', 5), ('08', 5), ('10', 8), ('09', 6), ('09', 6), ('87', 1), ('46', 1), ('44', 2), ('44', 2), ('03', 2), ('01', 3), ('01', 3), ('88', 1), ('50', 1), ('48', 2), ('48', 2), ('37', 3), ('35', 3), ('35', 3), ('58', 1), ('35', 3), ('33', 5), ('33', 5), ('71', 1), ('12', 3), ('11', 11), ('11', 11), ('11', 11), ('10', 8), ('10', 8)]\n",
      "[('09', 6), ('18', 2), ('16', 6), ('15', 4), ('15', 4), ('14', 2), ('11', 11), ('11', 11), ('11', 11), ('11', 11), ('11', 11), ('11', 11), ('10', 8), ('10', 8), ('10', 8), ('09', 6), ('07', 3), ('06', 2), ('04', 5), ('04', 5), ('04', 5), ('19', 1), ('17', 3), ('17', 3), ('16', 6), ('16', 6), ('16', 6), ('14', 2), ('12', 3), ('12', 3), ('32', 2), ('10', 8), ('08', 5), ('08', 5), ('10', 8), ('09', 6), ('09', 6), ('87', 1), ('46', 1), ('44', 2), ('44', 2), ('03', 2), ('01', 3), ('01', 3), ('88', 1), ('50', 1), ('48', 2), ('48', 2), ('37', 3), ('35', 3), ('35', 3), ('58', 1), ('35', 3), ('33', 5), ('33', 5), ('71', 1), ('12', 3), ('11', 11), ('11', 11), ('11', 11), ('10', 8), ('10', 8), ('11', 11)]\n",
      "[('09', 6), ('18', 2), ('16', 6), ('15', 4), ('15', 4), ('14', 2), ('11', 11), ('11', 11), ('11', 11), ('11', 11), ('11', 11), ('11', 11), ('10', 8), ('10', 8), ('10', 8), ('09', 6), ('07', 3), ('06', 2), ('04', 5), ('04', 5), ('04', 5), ('19', 1), ('17', 3), ('17', 3), ('16', 6), ('16', 6), ('16', 6), ('14', 2), ('12', 3), ('12', 3), ('32', 2), ('10', 8), ('08', 5), ('08', 5), ('10', 8), ('09', 6), ('09', 6), ('87', 1), ('46', 1), ('44', 2), ('44', 2), ('03', 2), ('01', 3), ('01', 3), ('88', 1), ('50', 1), ('48', 2), ('48', 2), ('37', 3), ('35', 3), ('35', 3), ('58', 1), ('35', 3), ('33', 5), ('33', 5), ('71', 1), ('12', 3), ('11', 11), ('11', 11), ('11', 11), ('10', 8), ('10', 8), ('11', 11), ('09', 6)]\n",
      "[('09', 6), ('18', 2), ('16', 6), ('15', 4), ('15', 4), ('14', 2), ('11', 11), ('11', 11), ('11', 11), ('11', 11), ('11', 11), ('11', 11), ('10', 8), ('10', 8), ('10', 8), ('09', 6), ('07', 3), ('06', 2), ('04', 5), ('04', 5), ('04', 5), ('19', 1), ('17', 3), ('17', 3), ('16', 6), ('16', 6), ('16', 6), ('14', 2), ('12', 3), ('12', 3), ('32', 2), ('10', 8), ('08', 5), ('08', 5), ('10', 8), ('09', 6), ('09', 6), ('87', 1), ('46', 1), ('44', 2), ('44', 2), ('03', 2), ('01', 3), ('01', 3), ('88', 1), ('50', 1), ('48', 2), ('48', 2), ('37', 3), ('35', 3), ('35', 3), ('58', 1), ('35', 3), ('33', 5), ('33', 5), ('71', 1), ('12', 3), ('11', 11), ('11', 11), ('11', 11), ('10', 8), ('10', 8), ('11', 11), ('09', 6), ('09', 6)]\n",
      "[('09', 6), ('18', 2), ('16', 6), ('15', 4), ('15', 4), ('14', 2), ('11', 11), ('11', 11), ('11', 11), ('11', 11), ('11', 11), ('11', 11), ('10', 8), ('10', 8), ('10', 8), ('09', 6), ('07', 3), ('06', 2), ('04', 5), ('04', 5), ('04', 5), ('19', 1), ('17', 3), ('17', 3), ('16', 6), ('16', 6), ('16', 6), ('14', 2), ('12', 3), ('12', 3), ('32', 2), ('10', 8), ('08', 5), ('08', 5), ('10', 8), ('09', 6), ('09', 6), ('87', 1), ('46', 1), ('44', 2), ('44', 2), ('03', 2), ('01', 3), ('01', 3), ('88', 1), ('50', 1), ('48', 2), ('48', 2), ('37', 3), ('35', 3), ('35', 3), ('58', 1), ('35', 3), ('33', 5), ('33', 5), ('71', 1), ('12', 3), ('11', 11), ('11', 11), ('11', 11), ('10', 8), ('10', 8), ('11', 11), ('09', 6), ('09', 6), ('11', 11)]\n",
      "[('09', 6), ('18', 2), ('16', 6), ('15', 4), ('15', 4), ('14', 2), ('11', 11), ('11', 11), ('11', 11), ('11', 11), ('11', 11), ('11', 11), ('10', 8), ('10', 8), ('10', 8), ('09', 6), ('07', 3), ('06', 2), ('04', 5), ('04', 5), ('04', 5), ('19', 1), ('17', 3), ('17', 3), ('16', 6), ('16', 6), ('16', 6), ('14', 2), ('12', 3), ('12', 3), ('32', 2), ('10', 8), ('08', 5), ('08', 5), ('10', 8), ('09', 6), ('09', 6), ('87', 1), ('46', 1), ('44', 2), ('44', 2), ('03', 2), ('01', 3), ('01', 3), ('88', 1), ('50', 1), ('48', 2), ('48', 2), ('37', 3), ('35', 3), ('35', 3), ('58', 1), ('35', 3), ('33', 5), ('33', 5), ('71', 1), ('12', 3), ('11', 11), ('11', 11), ('11', 11), ('10', 8), ('10', 8), ('11', 11), ('09', 6), ('09', 6), ('11', 11), ('10', 8)]\n",
      "[('09', 6), ('18', 2), ('16', 6), ('15', 4), ('15', 4), ('14', 2), ('11', 11), ('11', 11), ('11', 11), ('11', 11), ('11', 11), ('11', 11), ('10', 8), ('10', 8), ('10', 8), ('09', 6), ('07', 3), ('06', 2), ('04', 5), ('04', 5), ('04', 5), ('19', 1), ('17', 3), ('17', 3), ('16', 6), ('16', 6), ('16', 6), ('14', 2), ('12', 3), ('12', 3), ('32', 2), ('10', 8), ('08', 5), ('08', 5), ('10', 8), ('09', 6), ('09', 6), ('87', 1), ('46', 1), ('44', 2), ('44', 2), ('03', 2), ('01', 3), ('01', 3), ('88', 1), ('50', 1), ('48', 2), ('48', 2), ('37', 3), ('35', 3), ('35', 3), ('58', 1), ('35', 3), ('33', 5), ('33', 5), ('71', 1), ('12', 3), ('11', 11), ('11', 11), ('11', 11), ('10', 8), ('10', 8), ('11', 11), ('09', 6), ('09', 6), ('11', 11), ('10', 8), ('08', 5)]\n",
      "[('09', 6), ('18', 2), ('16', 6), ('15', 4), ('15', 4), ('14', 2), ('11', 11), ('11', 11), ('11', 11), ('11', 11), ('11', 11), ('11', 11), ('10', 8), ('10', 8), ('10', 8), ('09', 6), ('07', 3), ('06', 2), ('04', 5), ('04', 5), ('04', 5), ('19', 1), ('17', 3), ('17', 3), ('16', 6), ('16', 6), ('16', 6), ('14', 2), ('12', 3), ('12', 3), ('32', 2), ('10', 8), ('08', 5), ('08', 5), ('10', 8), ('09', 6), ('09', 6), ('87', 1), ('46', 1), ('44', 2), ('44', 2), ('03', 2), ('01', 3), ('01', 3), ('88', 1), ('50', 1), ('48', 2), ('48', 2), ('37', 3), ('35', 3), ('35', 3), ('58', 1), ('35', 3), ('33', 5), ('33', 5), ('71', 1), ('12', 3), ('11', 11), ('11', 11), ('11', 11), ('10', 8), ('10', 8), ('11', 11), ('09', 6), ('09', 6), ('11', 11), ('10', 8), ('08', 5), ('08', 5)]\n",
      "[('09', 6), ('18', 2), ('16', 6), ('15', 4), ('15', 4), ('14', 2), ('11', 11), ('11', 11), ('11', 11), ('11', 11), ('11', 11), ('11', 11), ('10', 8), ('10', 8), ('10', 8), ('09', 6), ('07', 3), ('06', 2), ('04', 5), ('04', 5), ('04', 5), ('19', 1), ('17', 3), ('17', 3), ('16', 6), ('16', 6), ('16', 6), ('14', 2), ('12', 3), ('12', 3), ('32', 2), ('10', 8), ('08', 5), ('08', 5), ('10', 8), ('09', 6), ('09', 6), ('87', 1), ('46', 1), ('44', 2), ('44', 2), ('03', 2), ('01', 3), ('01', 3), ('88', 1), ('50', 1), ('48', 2), ('48', 2), ('37', 3), ('35', 3), ('35', 3), ('58', 1), ('35', 3), ('33', 5), ('33', 5), ('71', 1), ('12', 3), ('11', 11), ('11', 11), ('11', 11), ('10', 8), ('10', 8), ('11', 11), ('09', 6), ('09', 6), ('11', 11), ('10', 8), ('08', 5), ('08', 5), ('38', 1)]\n",
      "[('09', 6), ('18', 2), ('16', 6), ('15', 4), ('15', 4), ('14', 2), ('11', 11), ('11', 11), ('11', 11), ('11', 11), ('11', 11), ('11', 11), ('10', 8), ('10', 8), ('10', 8), ('09', 6), ('07', 3), ('06', 2), ('04', 5), ('04', 5), ('04', 5), ('19', 1), ('17', 3), ('17', 3), ('16', 6), ('16', 6), ('16', 6), ('14', 2), ('12', 3), ('12', 3), ('32', 2), ('10', 8), ('08', 5), ('08', 5), ('10', 8), ('09', 6), ('09', 6), ('87', 1), ('46', 1), ('44', 2), ('44', 2), ('03', 2), ('01', 3), ('01', 3), ('88', 1), ('50', 1), ('48', 2), ('48', 2), ('37', 3), ('35', 3), ('35', 3), ('58', 1), ('35', 3), ('33', 5), ('33', 5), ('71', 1), ('12', 3), ('11', 11), ('11', 11), ('11', 11), ('10', 8), ('10', 8), ('11', 11), ('09', 6), ('09', 6), ('11', 11), ('10', 8), ('08', 5), ('08', 5), ('38', 1), ('37', 3)]\n",
      "[('09', 6), ('18', 2), ('16', 6), ('15', 4), ('15', 4), ('14', 2), ('11', 11), ('11', 11), ('11', 11), ('11', 11), ('11', 11), ('11', 11), ('10', 8), ('10', 8), ('10', 8), ('09', 6), ('07', 3), ('06', 2), ('04', 5), ('04', 5), ('04', 5), ('19', 1), ('17', 3), ('17', 3), ('16', 6), ('16', 6), ('16', 6), ('14', 2), ('12', 3), ('12', 3), ('32', 2), ('10', 8), ('08', 5), ('08', 5), ('10', 8), ('09', 6), ('09', 6), ('87', 1), ('46', 1), ('44', 2), ('44', 2), ('03', 2), ('01', 3), ('01', 3), ('88', 1), ('50', 1), ('48', 2), ('48', 2), ('37', 3), ('35', 3), ('35', 3), ('58', 1), ('35', 3), ('33', 5), ('33', 5), ('71', 1), ('12', 3), ('11', 11), ('11', 11), ('11', 11), ('10', 8), ('10', 8), ('11', 11), ('09', 6), ('09', 6), ('11', 11), ('10', 8), ('08', 5), ('08', 5), ('38', 1), ('37', 3), ('37', 3)]\n",
      "[('09', 6), ('18', 2), ('16', 6), ('15', 4), ('15', 4), ('14', 2), ('11', 11), ('11', 11), ('11', 11), ('11', 11), ('11', 11), ('11', 11), ('10', 8), ('10', 8), ('10', 8), ('09', 6), ('07', 3), ('06', 2), ('04', 5), ('04', 5), ('04', 5), ('19', 1), ('17', 3), ('17', 3), ('16', 6), ('16', 6), ('16', 6), ('14', 2), ('12', 3), ('12', 3), ('32', 2), ('10', 8), ('08', 5), ('08', 5), ('10', 8), ('09', 6), ('09', 6), ('87', 1), ('46', 1), ('44', 2), ('44', 2), ('03', 2), ('01', 3), ('01', 3), ('88', 1), ('50', 1), ('48', 2), ('48', 2), ('37', 3), ('35', 3), ('35', 3), ('58', 1), ('35', 3), ('33', 5), ('33', 5), ('71', 1), ('12', 3), ('11', 11), ('11', 11), ('11', 11), ('10', 8), ('10', 8), ('11', 11), ('09', 6), ('09', 6), ('11', 11), ('10', 8), ('08', 5), ('08', 5), ('38', 1), ('37', 3), ('37', 3), ('17', 3)]\n",
      "[('09', 6), ('18', 2), ('16', 6), ('15', 4), ('15', 4), ('14', 2), ('11', 11), ('11', 11), ('11', 11), ('11', 11), ('11', 11), ('11', 11), ('10', 8), ('10', 8), ('10', 8), ('09', 6), ('07', 3), ('06', 2), ('04', 5), ('04', 5), ('04', 5), ('19', 1), ('17', 3), ('17', 3), ('16', 6), ('16', 6), ('16', 6), ('14', 2), ('12', 3), ('12', 3), ('32', 2), ('10', 8), ('08', 5), ('08', 5), ('10', 8), ('09', 6), ('09', 6), ('87', 1), ('46', 1), ('44', 2), ('44', 2), ('03', 2), ('01', 3), ('01', 3), ('88', 1), ('50', 1), ('48', 2), ('48', 2), ('37', 3), ('35', 3), ('35', 3), ('58', 1), ('35', 3), ('33', 5), ('33', 5), ('71', 1), ('12', 3), ('11', 11), ('11', 11), ('11', 11), ('10', 8), ('10', 8), ('11', 11), ('09', 6), ('09', 6), ('11', 11), ('10', 8), ('08', 5), ('08', 5), ('38', 1), ('37', 3), ('37', 3), ('17', 3), ('15', 4)]\n",
      "[('09', 6), ('18', 2), ('16', 6), ('15', 4), ('15', 4), ('14', 2), ('11', 11), ('11', 11), ('11', 11), ('11', 11), ('11', 11), ('11', 11), ('10', 8), ('10', 8), ('10', 8), ('09', 6), ('07', 3), ('06', 2), ('04', 5), ('04', 5), ('04', 5), ('19', 1), ('17', 3), ('17', 3), ('16', 6), ('16', 6), ('16', 6), ('14', 2), ('12', 3), ('12', 3), ('32', 2), ('10', 8), ('08', 5), ('08', 5), ('10', 8), ('09', 6), ('09', 6), ('87', 1), ('46', 1), ('44', 2), ('44', 2), ('03', 2), ('01', 3), ('01', 3), ('88', 1), ('50', 1), ('48', 2), ('48', 2), ('37', 3), ('35', 3), ('35', 3), ('58', 1), ('35', 3), ('33', 5), ('33', 5), ('71', 1), ('12', 3), ('11', 11), ('11', 11), ('11', 11), ('10', 8), ('10', 8), ('11', 11), ('09', 6), ('09', 6), ('11', 11), ('10', 8), ('08', 5), ('08', 5), ('38', 1), ('37', 3), ('37', 3), ('17', 3), ('15', 4), ('15', 4)]\n",
      "[('09', 6), ('18', 2), ('16', 6), ('15', 4), ('15', 4), ('14', 2), ('11', 11), ('11', 11), ('11', 11), ('11', 11), ('11', 11), ('11', 11), ('10', 8), ('10', 8), ('10', 8), ('09', 6), ('07', 3), ('06', 2), ('04', 5), ('04', 5), ('04', 5), ('19', 1), ('17', 3), ('17', 3), ('16', 6), ('16', 6), ('16', 6), ('14', 2), ('12', 3), ('12', 3), ('32', 2), ('10', 8), ('08', 5), ('08', 5), ('10', 8), ('09', 6), ('09', 6), ('87', 1), ('46', 1), ('44', 2), ('44', 2), ('03', 2), ('01', 3), ('01', 3), ('88', 1), ('50', 1), ('48', 2), ('48', 2), ('37', 3), ('35', 3), ('35', 3), ('58', 1), ('35', 3), ('33', 5), ('33', 5), ('71', 1), ('12', 3), ('11', 11), ('11', 11), ('11', 11), ('10', 8), ('10', 8), ('11', 11), ('09', 6), ('09', 6), ('11', 11), ('10', 8), ('08', 5), ('08', 5), ('38', 1), ('37', 3), ('37', 3), ('17', 3), ('15', 4), ('15', 4), ('04', 5)]\n",
      "[('09', 6), ('18', 2), ('16', 6), ('15', 4), ('15', 4), ('14', 2), ('11', 11), ('11', 11), ('11', 11), ('11', 11), ('11', 11), ('11', 11), ('10', 8), ('10', 8), ('10', 8), ('09', 6), ('07', 3), ('06', 2), ('04', 5), ('04', 5), ('04', 5), ('19', 1), ('17', 3), ('17', 3), ('16', 6), ('16', 6), ('16', 6), ('14', 2), ('12', 3), ('12', 3), ('32', 2), ('10', 8), ('08', 5), ('08', 5), ('10', 8), ('09', 6), ('09', 6), ('87', 1), ('46', 1), ('44', 2), ('44', 2), ('03', 2), ('01', 3), ('01', 3), ('88', 1), ('50', 1), ('48', 2), ('48', 2), ('37', 3), ('35', 3), ('35', 3), ('58', 1), ('35', 3), ('33', 5), ('33', 5), ('71', 1), ('12', 3), ('11', 11), ('11', 11), ('11', 11), ('10', 8), ('10', 8), ('11', 11), ('09', 6), ('09', 6), ('11', 11), ('10', 8), ('08', 5), ('08', 5), ('38', 1), ('37', 3), ('37', 3), ('17', 3), ('15', 4), ('15', 4), ('04', 5), ('04', 5)]\n",
      "[('09', 6), ('18', 2), ('16', 6), ('15', 4), ('15', 4), ('14', 2), ('11', 11), ('11', 11), ('11', 11), ('11', 11), ('11', 11), ('11', 11), ('10', 8), ('10', 8), ('10', 8), ('09', 6), ('07', 3), ('06', 2), ('04', 5), ('04', 5), ('04', 5), ('19', 1), ('17', 3), ('17', 3), ('16', 6), ('16', 6), ('16', 6), ('14', 2), ('12', 3), ('12', 3), ('32', 2), ('10', 8), ('08', 5), ('08', 5), ('10', 8), ('09', 6), ('09', 6), ('87', 1), ('46', 1), ('44', 2), ('44', 2), ('03', 2), ('01', 3), ('01', 3), ('88', 1), ('50', 1), ('48', 2), ('48', 2), ('37', 3), ('35', 3), ('35', 3), ('58', 1), ('35', 3), ('33', 5), ('33', 5), ('71', 1), ('12', 3), ('11', 11), ('11', 11), ('11', 11), ('10', 8), ('10', 8), ('11', 11), ('09', 6), ('09', 6), ('11', 11), ('10', 8), ('08', 5), ('08', 5), ('38', 1), ('37', 3), ('37', 3), ('17', 3), ('15', 4), ('15', 4), ('04', 5), ('04', 5), ('02', 3)]\n",
      "[('09', 6), ('18', 2), ('16', 6), ('15', 4), ('15', 4), ('14', 2), ('11', 11), ('11', 11), ('11', 11), ('11', 11), ('11', 11), ('11', 11), ('10', 8), ('10', 8), ('10', 8), ('09', 6), ('07', 3), ('06', 2), ('04', 5), ('04', 5), ('04', 5), ('19', 1), ('17', 3), ('17', 3), ('16', 6), ('16', 6), ('16', 6), ('14', 2), ('12', 3), ('12', 3), ('32', 2), ('10', 8), ('08', 5), ('08', 5), ('10', 8), ('09', 6), ('09', 6), ('87', 1), ('46', 1), ('44', 2), ('44', 2), ('03', 2), ('01', 3), ('01', 3), ('88', 1), ('50', 1), ('48', 2), ('48', 2), ('37', 3), ('35', 3), ('35', 3), ('58', 1), ('35', 3), ('33', 5), ('33', 5), ('71', 1), ('12', 3), ('11', 11), ('11', 11), ('11', 11), ('10', 8), ('10', 8), ('11', 11), ('09', 6), ('09', 6), ('11', 11), ('10', 8), ('08', 5), ('08', 5), ('38', 1), ('37', 3), ('37', 3), ('17', 3), ('15', 4), ('15', 4), ('04', 5), ('04', 5), ('02', 3), ('01', 3)]\n",
      "[('09', 6), ('18', 2), ('16', 6), ('15', 4), ('15', 4), ('14', 2), ('11', 11), ('11', 11), ('11', 11), ('11', 11), ('11', 11), ('11', 11), ('10', 8), ('10', 8), ('10', 8), ('09', 6), ('07', 3), ('06', 2), ('04', 5), ('04', 5), ('04', 5), ('19', 1), ('17', 3), ('17', 3), ('16', 6), ('16', 6), ('16', 6), ('14', 2), ('12', 3), ('12', 3), ('32', 2), ('10', 8), ('08', 5), ('08', 5), ('10', 8), ('09', 6), ('09', 6), ('87', 1), ('46', 1), ('44', 2), ('44', 2), ('03', 2), ('01', 3), ('01', 3), ('88', 1), ('50', 1), ('48', 2), ('48', 2), ('37', 3), ('35', 3), ('35', 3), ('58', 1), ('35', 3), ('33', 5), ('33', 5), ('71', 1), ('12', 3), ('11', 11), ('11', 11), ('11', 11), ('10', 8), ('10', 8), ('11', 11), ('09', 6), ('09', 6), ('11', 11), ('10', 8), ('08', 5), ('08', 5), ('38', 1), ('37', 3), ('37', 3), ('17', 3), ('15', 4), ('15', 4), ('04', 5), ('04', 5), ('02', 3), ('01', 3), ('05', 6)]\n",
      "[('09', 6), ('18', 2), ('16', 6), ('15', 4), ('15', 4), ('14', 2), ('11', 11), ('11', 11), ('11', 11), ('11', 11), ('11', 11), ('11', 11), ('10', 8), ('10', 8), ('10', 8), ('09', 6), ('07', 3), ('06', 2), ('04', 5), ('04', 5), ('04', 5), ('19', 1), ('17', 3), ('17', 3), ('16', 6), ('16', 6), ('16', 6), ('14', 2), ('12', 3), ('12', 3), ('32', 2), ('10', 8), ('08', 5), ('08', 5), ('10', 8), ('09', 6), ('09', 6), ('87', 1), ('46', 1), ('44', 2), ('44', 2), ('03', 2), ('01', 3), ('01', 3), ('88', 1), ('50', 1), ('48', 2), ('48', 2), ('37', 3), ('35', 3), ('35', 3), ('58', 1), ('35', 3), ('33', 5), ('33', 5), ('71', 1), ('12', 3), ('11', 11), ('11', 11), ('11', 11), ('10', 8), ('10', 8), ('11', 11), ('09', 6), ('09', 6), ('11', 11), ('10', 8), ('08', 5), ('08', 5), ('38', 1), ('37', 3), ('37', 3), ('17', 3), ('15', 4), ('15', 4), ('04', 5), ('04', 5), ('02', 3), ('01', 3), ('05', 6), ('03', 2)]\n",
      "[('09', 6), ('18', 2), ('16', 6), ('15', 4), ('15', 4), ('14', 2), ('11', 11), ('11', 11), ('11', 11), ('11', 11), ('11', 11), ('11', 11), ('10', 8), ('10', 8), ('10', 8), ('09', 6), ('07', 3), ('06', 2), ('04', 5), ('04', 5), ('04', 5), ('19', 1), ('17', 3), ('17', 3), ('16', 6), ('16', 6), ('16', 6), ('14', 2), ('12', 3), ('12', 3), ('32', 2), ('10', 8), ('08', 5), ('08', 5), ('10', 8), ('09', 6), ('09', 6), ('87', 1), ('46', 1), ('44', 2), ('44', 2), ('03', 2), ('01', 3), ('01', 3), ('88', 1), ('50', 1), ('48', 2), ('48', 2), ('37', 3), ('35', 3), ('35', 3), ('58', 1), ('35', 3), ('33', 5), ('33', 5), ('71', 1), ('12', 3), ('11', 11), ('11', 11), ('11', 11), ('10', 8), ('10', 8), ('11', 11), ('09', 6), ('09', 6), ('11', 11), ('10', 8), ('08', 5), ('08', 5), ('38', 1), ('37', 3), ('37', 3), ('17', 3), ('15', 4), ('15', 4), ('04', 5), ('04', 5), ('02', 3), ('01', 3), ('05', 6), ('03', 2), ('65', 1)]\n",
      "[('09', 6), ('18', 2), ('16', 6), ('15', 4), ('15', 4), ('14', 2), ('11', 11), ('11', 11), ('11', 11), ('11', 11), ('11', 11), ('11', 11), ('10', 8), ('10', 8), ('10', 8), ('09', 6), ('07', 3), ('06', 2), ('04', 5), ('04', 5), ('04', 5), ('19', 1), ('17', 3), ('17', 3), ('16', 6), ('16', 6), ('16', 6), ('14', 2), ('12', 3), ('12', 3), ('32', 2), ('10', 8), ('08', 5), ('08', 5), ('10', 8), ('09', 6), ('09', 6), ('87', 1), ('46', 1), ('44', 2), ('44', 2), ('03', 2), ('01', 3), ('01', 3), ('88', 1), ('50', 1), ('48', 2), ('48', 2), ('37', 3), ('35', 3), ('35', 3), ('58', 1), ('35', 3), ('33', 5), ('33', 5), ('71', 1), ('12', 3), ('11', 11), ('11', 11), ('11', 11), ('10', 8), ('10', 8), ('11', 11), ('09', 6), ('09', 6), ('11', 11), ('10', 8), ('08', 5), ('08', 5), ('38', 1), ('37', 3), ('37', 3), ('17', 3), ('15', 4), ('15', 4), ('04', 5), ('04', 5), ('02', 3), ('01', 3), ('05', 6), ('03', 2), ('65', 1), ('02', 3)]\n",
      "[('09', 6), ('18', 2), ('16', 6), ('15', 4), ('15', 4), ('14', 2), ('11', 11), ('11', 11), ('11', 11), ('11', 11), ('11', 11), ('11', 11), ('10', 8), ('10', 8), ('10', 8), ('09', 6), ('07', 3), ('06', 2), ('04', 5), ('04', 5), ('04', 5), ('19', 1), ('17', 3), ('17', 3), ('16', 6), ('16', 6), ('16', 6), ('14', 2), ('12', 3), ('12', 3), ('32', 2), ('10', 8), ('08', 5), ('08', 5), ('10', 8), ('09', 6), ('09', 6), ('87', 1), ('46', 1), ('44', 2), ('44', 2), ('03', 2), ('01', 3), ('01', 3), ('88', 1), ('50', 1), ('48', 2), ('48', 2), ('37', 3), ('35', 3), ('35', 3), ('58', 1), ('35', 3), ('33', 5), ('33', 5), ('71', 1), ('12', 3), ('11', 11), ('11', 11), ('11', 11), ('10', 8), ('10', 8), ('11', 11), ('09', 6), ('09', 6), ('11', 11), ('10', 8), ('08', 5), ('08', 5), ('38', 1), ('37', 3), ('37', 3), ('17', 3), ('15', 4), ('15', 4), ('04', 5), ('04', 5), ('02', 3), ('01', 3), ('05', 6), ('03', 2), ('65', 1), ('02', 3), ('02', 3)]\n",
      "[('09', 6), ('18', 2), ('16', 6), ('15', 4), ('15', 4), ('14', 2), ('11', 11), ('11', 11), ('11', 11), ('11', 11), ('11', 11), ('11', 11), ('10', 8), ('10', 8), ('10', 8), ('09', 6), ('07', 3), ('06', 2), ('04', 5), ('04', 5), ('04', 5), ('19', 1), ('17', 3), ('17', 3), ('16', 6), ('16', 6), ('16', 6), ('14', 2), ('12', 3), ('12', 3), ('32', 2), ('10', 8), ('08', 5), ('08', 5), ('10', 8), ('09', 6), ('09', 6), ('87', 1), ('46', 1), ('44', 2), ('44', 2), ('03', 2), ('01', 3), ('01', 3), ('88', 1), ('50', 1), ('48', 2), ('48', 2), ('37', 3), ('35', 3), ('35', 3), ('58', 1), ('35', 3), ('33', 5), ('33', 5), ('71', 1), ('12', 3), ('11', 11), ('11', 11), ('11', 11), ('10', 8), ('10', 8), ('11', 11), ('09', 6), ('09', 6), ('11', 11), ('10', 8), ('08', 5), ('08', 5), ('38', 1), ('37', 3), ('37', 3), ('17', 3), ('15', 4), ('15', 4), ('04', 5), ('04', 5), ('02', 3), ('01', 3), ('05', 6), ('03', 2), ('65', 1), ('02', 3), ('02', 3), ('00', 2)]\n",
      "[('09', 6), ('18', 2), ('16', 6), ('15', 4), ('15', 4), ('14', 2), ('11', 11), ('11', 11), ('11', 11), ('11', 11), ('11', 11), ('11', 11), ('10', 8), ('10', 8), ('10', 8), ('09', 6), ('07', 3), ('06', 2), ('04', 5), ('04', 5), ('04', 5), ('19', 1), ('17', 3), ('17', 3), ('16', 6), ('16', 6), ('16', 6), ('14', 2), ('12', 3), ('12', 3), ('32', 2), ('10', 8), ('08', 5), ('08', 5), ('10', 8), ('09', 6), ('09', 6), ('87', 1), ('46', 1), ('44', 2), ('44', 2), ('03', 2), ('01', 3), ('01', 3), ('88', 1), ('50', 1), ('48', 2), ('48', 2), ('37', 3), ('35', 3), ('35', 3), ('58', 1), ('35', 3), ('33', 5), ('33', 5), ('71', 1), ('12', 3), ('11', 11), ('11', 11), ('11', 11), ('10', 8), ('10', 8), ('11', 11), ('09', 6), ('09', 6), ('11', 11), ('10', 8), ('08', 5), ('08', 5), ('38', 1), ('37', 3), ('37', 3), ('17', 3), ('15', 4), ('15', 4), ('04', 5), ('04', 5), ('02', 3), ('01', 3), ('05', 6), ('03', 2), ('65', 1), ('02', 3), ('02', 3), ('00', 2), ('00', 2)]\n",
      "[('09', 6), ('18', 2), ('16', 6), ('15', 4), ('15', 4), ('14', 2), ('11', 11), ('11', 11), ('11', 11), ('11', 11), ('11', 11), ('11', 11), ('10', 8), ('10', 8), ('10', 8), ('09', 6), ('07', 3), ('06', 2), ('04', 5), ('04', 5), ('04', 5), ('19', 1), ('17', 3), ('17', 3), ('16', 6), ('16', 6), ('16', 6), ('14', 2), ('12', 3), ('12', 3), ('32', 2), ('10', 8), ('08', 5), ('08', 5), ('10', 8), ('09', 6), ('09', 6), ('87', 1), ('46', 1), ('44', 2), ('44', 2), ('03', 2), ('01', 3), ('01', 3), ('88', 1), ('50', 1), ('48', 2), ('48', 2), ('37', 3), ('35', 3), ('35', 3), ('58', 1), ('35', 3), ('33', 5), ('33', 5), ('71', 1), ('12', 3), ('11', 11), ('11', 11), ('11', 11), ('10', 8), ('10', 8), ('11', 11), ('09', 6), ('09', 6), ('11', 11), ('10', 8), ('08', 5), ('08', 5), ('38', 1), ('37', 3), ('37', 3), ('17', 3), ('15', 4), ('15', 4), ('04', 5), ('04', 5), ('02', 3), ('01', 3), ('05', 6), ('03', 2), ('65', 1), ('02', 3), ('02', 3), ('00', 2), ('00', 2), ('08', 5)]\n",
      "[('09', 6), ('18', 2), ('16', 6), ('15', 4), ('15', 4), ('14', 2), ('11', 11), ('11', 11), ('11', 11), ('11', 11), ('11', 11), ('11', 11), ('10', 8), ('10', 8), ('10', 8), ('09', 6), ('07', 3), ('06', 2), ('04', 5), ('04', 5), ('04', 5), ('19', 1), ('17', 3), ('17', 3), ('16', 6), ('16', 6), ('16', 6), ('14', 2), ('12', 3), ('12', 3), ('32', 2), ('10', 8), ('08', 5), ('08', 5), ('10', 8), ('09', 6), ('09', 6), ('87', 1), ('46', 1), ('44', 2), ('44', 2), ('03', 2), ('01', 3), ('01', 3), ('88', 1), ('50', 1), ('48', 2), ('48', 2), ('37', 3), ('35', 3), ('35', 3), ('58', 1), ('35', 3), ('33', 5), ('33', 5), ('71', 1), ('12', 3), ('11', 11), ('11', 11), ('11', 11), ('10', 8), ('10', 8), ('11', 11), ('09', 6), ('09', 6), ('11', 11), ('10', 8), ('08', 5), ('08', 5), ('38', 1), ('37', 3), ('37', 3), ('17', 3), ('15', 4), ('15', 4), ('04', 5), ('04', 5), ('02', 3), ('01', 3), ('05', 6), ('03', 2), ('65', 1), ('02', 3), ('02', 3), ('00', 2), ('00', 2), ('08', 5), ('06', 2)]\n",
      "[('09', 6), ('18', 2), ('16', 6), ('15', 4), ('15', 4), ('14', 2), ('11', 11), ('11', 11), ('11', 11), ('11', 11), ('11', 11), ('11', 11), ('10', 8), ('10', 8), ('10', 8), ('09', 6), ('07', 3), ('06', 2), ('04', 5), ('04', 5), ('04', 5), ('19', 1), ('17', 3), ('17', 3), ('16', 6), ('16', 6), ('16', 6), ('14', 2), ('12', 3), ('12', 3), ('32', 2), ('10', 8), ('08', 5), ('08', 5), ('10', 8), ('09', 6), ('09', 6), ('87', 1), ('46', 1), ('44', 2), ('44', 2), ('03', 2), ('01', 3), ('01', 3), ('88', 1), ('50', 1), ('48', 2), ('48', 2), ('37', 3), ('35', 3), ('35', 3), ('58', 1), ('35', 3), ('33', 5), ('33', 5), ('71', 1), ('12', 3), ('11', 11), ('11', 11), ('11', 11), ('10', 8), ('10', 8), ('11', 11), ('09', 6), ('09', 6), ('11', 11), ('10', 8), ('08', 5), ('08', 5), ('38', 1), ('37', 3), ('37', 3), ('17', 3), ('15', 4), ('15', 4), ('04', 5), ('04', 5), ('02', 3), ('01', 3), ('05', 6), ('03', 2), ('65', 1), ('02', 3), ('02', 3), ('00', 2), ('00', 2), ('08', 5), ('06', 2), ('05', 6)]\n",
      "[('09', 6), ('18', 2), ('16', 6), ('15', 4), ('15', 4), ('14', 2), ('11', 11), ('11', 11), ('11', 11), ('11', 11), ('11', 11), ('11', 11), ('10', 8), ('10', 8), ('10', 8), ('09', 6), ('07', 3), ('06', 2), ('04', 5), ('04', 5), ('04', 5), ('19', 1), ('17', 3), ('17', 3), ('16', 6), ('16', 6), ('16', 6), ('14', 2), ('12', 3), ('12', 3), ('32', 2), ('10', 8), ('08', 5), ('08', 5), ('10', 8), ('09', 6), ('09', 6), ('87', 1), ('46', 1), ('44', 2), ('44', 2), ('03', 2), ('01', 3), ('01', 3), ('88', 1), ('50', 1), ('48', 2), ('48', 2), ('37', 3), ('35', 3), ('35', 3), ('58', 1), ('35', 3), ('33', 5), ('33', 5), ('71', 1), ('12', 3), ('11', 11), ('11', 11), ('11', 11), ('10', 8), ('10', 8), ('11', 11), ('09', 6), ('09', 6), ('11', 11), ('10', 8), ('08', 5), ('08', 5), ('38', 1), ('37', 3), ('37', 3), ('17', 3), ('15', 4), ('15', 4), ('04', 5), ('04', 5), ('02', 3), ('01', 3), ('05', 6), ('03', 2), ('65', 1), ('02', 3), ('02', 3), ('00', 2), ('00', 2), ('08', 5), ('06', 2), ('05', 6), ('49', 1)]\n",
      "[('09', 6), ('18', 2), ('16', 6), ('15', 4), ('15', 4), ('14', 2), ('11', 11), ('11', 11), ('11', 11), ('11', 11), ('11', 11), ('11', 11), ('10', 8), ('10', 8), ('10', 8), ('09', 6), ('07', 3), ('06', 2), ('04', 5), ('04', 5), ('04', 5), ('19', 1), ('17', 3), ('17', 3), ('16', 6), ('16', 6), ('16', 6), ('14', 2), ('12', 3), ('12', 3), ('32', 2), ('10', 8), ('08', 5), ('08', 5), ('10', 8), ('09', 6), ('09', 6), ('87', 1), ('46', 1), ('44', 2), ('44', 2), ('03', 2), ('01', 3), ('01', 3), ('88', 1), ('50', 1), ('48', 2), ('48', 2), ('37', 3), ('35', 3), ('35', 3), ('58', 1), ('35', 3), ('33', 5), ('33', 5), ('71', 1), ('12', 3), ('11', 11), ('11', 11), ('11', 11), ('10', 8), ('10', 8), ('11', 11), ('09', 6), ('09', 6), ('11', 11), ('10', 8), ('08', 5), ('08', 5), ('38', 1), ('37', 3), ('37', 3), ('17', 3), ('15', 4), ('15', 4), ('04', 5), ('04', 5), ('02', 3), ('01', 3), ('05', 6), ('03', 2), ('65', 1), ('02', 3), ('02', 3), ('00', 2), ('00', 2), ('08', 5), ('06', 2), ('05', 6), ('49', 1), ('47', 2)]\n",
      "[('09', 6), ('18', 2), ('16', 6), ('15', 4), ('15', 4), ('14', 2), ('11', 11), ('11', 11), ('11', 11), ('11', 11), ('11', 11), ('11', 11), ('10', 8), ('10', 8), ('10', 8), ('09', 6), ('07', 3), ('06', 2), ('04', 5), ('04', 5), ('04', 5), ('19', 1), ('17', 3), ('17', 3), ('16', 6), ('16', 6), ('16', 6), ('14', 2), ('12', 3), ('12', 3), ('32', 2), ('10', 8), ('08', 5), ('08', 5), ('10', 8), ('09', 6), ('09', 6), ('87', 1), ('46', 1), ('44', 2), ('44', 2), ('03', 2), ('01', 3), ('01', 3), ('88', 1), ('50', 1), ('48', 2), ('48', 2), ('37', 3), ('35', 3), ('35', 3), ('58', 1), ('35', 3), ('33', 5), ('33', 5), ('71', 1), ('12', 3), ('11', 11), ('11', 11), ('11', 11), ('10', 8), ('10', 8), ('11', 11), ('09', 6), ('09', 6), ('11', 11), ('10', 8), ('08', 5), ('08', 5), ('38', 1), ('37', 3), ('37', 3), ('17', 3), ('15', 4), ('15', 4), ('04', 5), ('04', 5), ('02', 3), ('01', 3), ('05', 6), ('03', 2), ('65', 1), ('02', 3), ('02', 3), ('00', 2), ('00', 2), ('08', 5), ('06', 2), ('05', 6), ('49', 1), ('47', 2), ('47', 2)]\n",
      "[('09', 6), ('18', 2), ('16', 6), ('15', 4), ('15', 4), ('14', 2), ('11', 11), ('11', 11), ('11', 11), ('11', 11), ('11', 11), ('11', 11), ('10', 8), ('10', 8), ('10', 8), ('09', 6), ('07', 3), ('06', 2), ('04', 5), ('04', 5), ('04', 5), ('19', 1), ('17', 3), ('17', 3), ('16', 6), ('16', 6), ('16', 6), ('14', 2), ('12', 3), ('12', 3), ('32', 2), ('10', 8), ('08', 5), ('08', 5), ('10', 8), ('09', 6), ('09', 6), ('87', 1), ('46', 1), ('44', 2), ('44', 2), ('03', 2), ('01', 3), ('01', 3), ('88', 1), ('50', 1), ('48', 2), ('48', 2), ('37', 3), ('35', 3), ('35', 3), ('58', 1), ('35', 3), ('33', 5), ('33', 5), ('71', 1), ('12', 3), ('11', 11), ('11', 11), ('11', 11), ('10', 8), ('10', 8), ('11', 11), ('09', 6), ('09', 6), ('11', 11), ('10', 8), ('08', 5), ('08', 5), ('38', 1), ('37', 3), ('37', 3), ('17', 3), ('15', 4), ('15', 4), ('04', 5), ('04', 5), ('02', 3), ('01', 3), ('05', 6), ('03', 2), ('65', 1), ('02', 3), ('02', 3), ('00', 2), ('00', 2), ('08', 5), ('06', 2), ('05', 6), ('49', 1), ('47', 2), ('47', 2), ('82', 2)]\n",
      "[('09', 6), ('18', 2), ('16', 6), ('15', 4), ('15', 4), ('14', 2), ('11', 11), ('11', 11), ('11', 11), ('11', 11), ('11', 11), ('11', 11), ('10', 8), ('10', 8), ('10', 8), ('09', 6), ('07', 3), ('06', 2), ('04', 5), ('04', 5), ('04', 5), ('19', 1), ('17', 3), ('17', 3), ('16', 6), ('16', 6), ('16', 6), ('14', 2), ('12', 3), ('12', 3), ('32', 2), ('10', 8), ('08', 5), ('08', 5), ('10', 8), ('09', 6), ('09', 6), ('87', 1), ('46', 1), ('44', 2), ('44', 2), ('03', 2), ('01', 3), ('01', 3), ('88', 1), ('50', 1), ('48', 2), ('48', 2), ('37', 3), ('35', 3), ('35', 3), ('58', 1), ('35', 3), ('33', 5), ('33', 5), ('71', 1), ('12', 3), ('11', 11), ('11', 11), ('11', 11), ('10', 8), ('10', 8), ('11', 11), ('09', 6), ('09', 6), ('11', 11), ('10', 8), ('08', 5), ('08', 5), ('38', 1), ('37', 3), ('37', 3), ('17', 3), ('15', 4), ('15', 4), ('04', 5), ('04', 5), ('02', 3), ('01', 3), ('05', 6), ('03', 2), ('65', 1), ('02', 3), ('02', 3), ('00', 2), ('00', 2), ('08', 5), ('06', 2), ('05', 6), ('49', 1), ('47', 2), ('47', 2), ('82', 2), ('33', 5)]\n",
      "[('09', 6), ('18', 2), ('16', 6), ('15', 4), ('15', 4), ('14', 2), ('11', 11), ('11', 11), ('11', 11), ('11', 11), ('11', 11), ('11', 11), ('10', 8), ('10', 8), ('10', 8), ('09', 6), ('07', 3), ('06', 2), ('04', 5), ('04', 5), ('04', 5), ('19', 1), ('17', 3), ('17', 3), ('16', 6), ('16', 6), ('16', 6), ('14', 2), ('12', 3), ('12', 3), ('32', 2), ('10', 8), ('08', 5), ('08', 5), ('10', 8), ('09', 6), ('09', 6), ('87', 1), ('46', 1), ('44', 2), ('44', 2), ('03', 2), ('01', 3), ('01', 3), ('88', 1), ('50', 1), ('48', 2), ('48', 2), ('37', 3), ('35', 3), ('35', 3), ('58', 1), ('35', 3), ('33', 5), ('33', 5), ('71', 1), ('12', 3), ('11', 11), ('11', 11), ('11', 11), ('10', 8), ('10', 8), ('11', 11), ('09', 6), ('09', 6), ('11', 11), ('10', 8), ('08', 5), ('08', 5), ('38', 1), ('37', 3), ('37', 3), ('17', 3), ('15', 4), ('15', 4), ('04', 5), ('04', 5), ('02', 3), ('01', 3), ('05', 6), ('03', 2), ('65', 1), ('02', 3), ('02', 3), ('00', 2), ('00', 2), ('08', 5), ('06', 2), ('05', 6), ('49', 1), ('47', 2), ('47', 2), ('82', 2), ('33', 5), ('32', 2)]\n",
      "[('09', 6), ('18', 2), ('16', 6), ('15', 4), ('15', 4), ('14', 2), ('11', 11), ('11', 11), ('11', 11), ('11', 11), ('11', 11), ('11', 11), ('10', 8), ('10', 8), ('10', 8), ('09', 6), ('07', 3), ('06', 2), ('04', 5), ('04', 5), ('04', 5), ('19', 1), ('17', 3), ('17', 3), ('16', 6), ('16', 6), ('16', 6), ('14', 2), ('12', 3), ('12', 3), ('32', 2), ('10', 8), ('08', 5), ('08', 5), ('10', 8), ('09', 6), ('09', 6), ('87', 1), ('46', 1), ('44', 2), ('44', 2), ('03', 2), ('01', 3), ('01', 3), ('88', 1), ('50', 1), ('48', 2), ('48', 2), ('37', 3), ('35', 3), ('35', 3), ('58', 1), ('35', 3), ('33', 5), ('33', 5), ('71', 1), ('12', 3), ('11', 11), ('11', 11), ('11', 11), ('10', 8), ('10', 8), ('11', 11), ('09', 6), ('09', 6), ('11', 11), ('10', 8), ('08', 5), ('08', 5), ('38', 1), ('37', 3), ('37', 3), ('17', 3), ('15', 4), ('15', 4), ('04', 5), ('04', 5), ('02', 3), ('01', 3), ('05', 6), ('03', 2), ('65', 1), ('02', 3), ('02', 3), ('00', 2), ('00', 2), ('08', 5), ('06', 2), ('05', 6), ('49', 1), ('47', 2), ('47', 2), ('82', 2), ('33', 5), ('32', 2), ('31', 1)]\n",
      "[('09', 6), ('18', 2), ('16', 6), ('15', 4), ('15', 4), ('14', 2), ('11', 11), ('11', 11), ('11', 11), ('11', 11), ('11', 11), ('11', 11), ('10', 8), ('10', 8), ('10', 8), ('09', 6), ('07', 3), ('06', 2), ('04', 5), ('04', 5), ('04', 5), ('19', 1), ('17', 3), ('17', 3), ('16', 6), ('16', 6), ('16', 6), ('14', 2), ('12', 3), ('12', 3), ('32', 2), ('10', 8), ('08', 5), ('08', 5), ('10', 8), ('09', 6), ('09', 6), ('87', 1), ('46', 1), ('44', 2), ('44', 2), ('03', 2), ('01', 3), ('01', 3), ('88', 1), ('50', 1), ('48', 2), ('48', 2), ('37', 3), ('35', 3), ('35', 3), ('58', 1), ('35', 3), ('33', 5), ('33', 5), ('71', 1), ('12', 3), ('11', 11), ('11', 11), ('11', 11), ('10', 8), ('10', 8), ('11', 11), ('09', 6), ('09', 6), ('11', 11), ('10', 8), ('08', 5), ('08', 5), ('38', 1), ('37', 3), ('37', 3), ('17', 3), ('15', 4), ('15', 4), ('04', 5), ('04', 5), ('02', 3), ('01', 3), ('05', 6), ('03', 2), ('65', 1), ('02', 3), ('02', 3), ('00', 2), ('00', 2), ('08', 5), ('06', 2), ('05', 6), ('49', 1), ('47', 2), ('47', 2), ('82', 2), ('33', 5), ('32', 2), ('31', 1), ('82', 2)]\n",
      "[('09', 6), ('18', 2), ('16', 6), ('15', 4), ('15', 4), ('14', 2), ('11', 11), ('11', 11), ('11', 11), ('11', 11), ('11', 11), ('11', 11), ('10', 8), ('10', 8), ('10', 8), ('09', 6), ('07', 3), ('06', 2), ('04', 5), ('04', 5), ('04', 5), ('19', 1), ('17', 3), ('17', 3), ('16', 6), ('16', 6), ('16', 6), ('14', 2), ('12', 3), ('12', 3), ('32', 2), ('10', 8), ('08', 5), ('08', 5), ('10', 8), ('09', 6), ('09', 6), ('87', 1), ('46', 1), ('44', 2), ('44', 2), ('03', 2), ('01', 3), ('01', 3), ('88', 1), ('50', 1), ('48', 2), ('48', 2), ('37', 3), ('35', 3), ('35', 3), ('58', 1), ('35', 3), ('33', 5), ('33', 5), ('71', 1), ('12', 3), ('11', 11), ('11', 11), ('11', 11), ('10', 8), ('10', 8), ('11', 11), ('09', 6), ('09', 6), ('11', 11), ('10', 8), ('08', 5), ('08', 5), ('38', 1), ('37', 3), ('37', 3), ('17', 3), ('15', 4), ('15', 4), ('04', 5), ('04', 5), ('02', 3), ('01', 3), ('05', 6), ('03', 2), ('65', 1), ('02', 3), ('02', 3), ('00', 2), ('00', 2), ('08', 5), ('06', 2), ('05', 6), ('49', 1), ('47', 2), ('47', 2), ('82', 2), ('33', 5), ('32', 2), ('31', 1), ('82', 2), ('07', 3)]\n",
      "[('09', 6), ('18', 2), ('16', 6), ('15', 4), ('15', 4), ('14', 2), ('11', 11), ('11', 11), ('11', 11), ('11', 11), ('11', 11), ('11', 11), ('10', 8), ('10', 8), ('10', 8), ('09', 6), ('07', 3), ('06', 2), ('04', 5), ('04', 5), ('04', 5), ('19', 1), ('17', 3), ('17', 3), ('16', 6), ('16', 6), ('16', 6), ('14', 2), ('12', 3), ('12', 3), ('32', 2), ('10', 8), ('08', 5), ('08', 5), ('10', 8), ('09', 6), ('09', 6), ('87', 1), ('46', 1), ('44', 2), ('44', 2), ('03', 2), ('01', 3), ('01', 3), ('88', 1), ('50', 1), ('48', 2), ('48', 2), ('37', 3), ('35', 3), ('35', 3), ('58', 1), ('35', 3), ('33', 5), ('33', 5), ('71', 1), ('12', 3), ('11', 11), ('11', 11), ('11', 11), ('10', 8), ('10', 8), ('11', 11), ('09', 6), ('09', 6), ('11', 11), ('10', 8), ('08', 5), ('08', 5), ('38', 1), ('37', 3), ('37', 3), ('17', 3), ('15', 4), ('15', 4), ('04', 5), ('04', 5), ('02', 3), ('01', 3), ('05', 6), ('03', 2), ('65', 1), ('02', 3), ('02', 3), ('00', 2), ('00', 2), ('08', 5), ('06', 2), ('05', 6), ('49', 1), ('47', 2), ('47', 2), ('82', 2), ('33', 5), ('32', 2), ('31', 1), ('82', 2), ('07', 3), ('05', 6)]\n",
      "[('09', 6), ('18', 2), ('16', 6), ('15', 4), ('15', 4), ('14', 2), ('11', 11), ('11', 11), ('11', 11), ('11', 11), ('11', 11), ('11', 11), ('10', 8), ('10', 8), ('10', 8), ('09', 6), ('07', 3), ('06', 2), ('04', 5), ('04', 5), ('04', 5), ('19', 1), ('17', 3), ('17', 3), ('16', 6), ('16', 6), ('16', 6), ('14', 2), ('12', 3), ('12', 3), ('32', 2), ('10', 8), ('08', 5), ('08', 5), ('10', 8), ('09', 6), ('09', 6), ('87', 1), ('46', 1), ('44', 2), ('44', 2), ('03', 2), ('01', 3), ('01', 3), ('88', 1), ('50', 1), ('48', 2), ('48', 2), ('37', 3), ('35', 3), ('35', 3), ('58', 1), ('35', 3), ('33', 5), ('33', 5), ('71', 1), ('12', 3), ('11', 11), ('11', 11), ('11', 11), ('10', 8), ('10', 8), ('11', 11), ('09', 6), ('09', 6), ('11', 11), ('10', 8), ('08', 5), ('08', 5), ('38', 1), ('37', 3), ('37', 3), ('17', 3), ('15', 4), ('15', 4), ('04', 5), ('04', 5), ('02', 3), ('01', 3), ('05', 6), ('03', 2), ('65', 1), ('02', 3), ('02', 3), ('00', 2), ('00', 2), ('08', 5), ('06', 2), ('05', 6), ('49', 1), ('47', 2), ('47', 2), ('82', 2), ('33', 5), ('32', 2), ('31', 1), ('82', 2), ('07', 3), ('05', 6), ('05', 6)]\n",
      "[('09', 6), ('18', 2), ('16', 6), ('15', 4), ('15', 4), ('14', 2), ('11', 11), ('11', 11), ('11', 11), ('11', 11), ('11', 11), ('11', 11), ('10', 8), ('10', 8), ('10', 8), ('09', 6), ('07', 3), ('06', 2), ('04', 5), ('04', 5), ('04', 5), ('19', 1), ('17', 3), ('17', 3), ('16', 6), ('16', 6), ('16', 6), ('14', 2), ('12', 3), ('12', 3), ('32', 2), ('10', 8), ('08', 5), ('08', 5), ('10', 8), ('09', 6), ('09', 6), ('87', 1), ('46', 1), ('44', 2), ('44', 2), ('03', 2), ('01', 3), ('01', 3), ('88', 1), ('50', 1), ('48', 2), ('48', 2), ('37', 3), ('35', 3), ('35', 3), ('58', 1), ('35', 3), ('33', 5), ('33', 5), ('71', 1), ('12', 3), ('11', 11), ('11', 11), ('11', 11), ('10', 8), ('10', 8), ('11', 11), ('09', 6), ('09', 6), ('11', 11), ('10', 8), ('08', 5), ('08', 5), ('38', 1), ('37', 3), ('37', 3), ('17', 3), ('15', 4), ('15', 4), ('04', 5), ('04', 5), ('02', 3), ('01', 3), ('05', 6), ('03', 2), ('65', 1), ('02', 3), ('02', 3), ('00', 2), ('00', 2), ('08', 5), ('06', 2), ('05', 6), ('49', 1), ('47', 2), ('47', 2), ('82', 2), ('33', 5), ('32', 2), ('31', 1), ('82', 2), ('07', 3), ('05', 6), ('05', 6), ('51', 1)]\n",
      "[('09', 6), ('18', 2), ('16', 6), ('15', 4), ('15', 4), ('14', 2), ('11', 11), ('11', 11), ('11', 11), ('11', 11), ('11', 11), ('11', 11), ('10', 8), ('10', 8), ('10', 8), ('09', 6), ('07', 3), ('06', 2), ('04', 5), ('04', 5), ('04', 5), ('19', 1), ('17', 3), ('17', 3), ('16', 6), ('16', 6), ('16', 6), ('14', 2), ('12', 3), ('12', 3), ('32', 2), ('10', 8), ('08', 5), ('08', 5), ('10', 8), ('09', 6), ('09', 6), ('87', 1), ('46', 1), ('44', 2), ('44', 2), ('03', 2), ('01', 3), ('01', 3), ('88', 1), ('50', 1), ('48', 2), ('48', 2), ('37', 3), ('35', 3), ('35', 3), ('58', 1), ('35', 3), ('33', 5), ('33', 5), ('71', 1), ('12', 3), ('11', 11), ('11', 11), ('11', 11), ('10', 8), ('10', 8), ('11', 11), ('09', 6), ('09', 6), ('11', 11), ('10', 8), ('08', 5), ('08', 5), ('38', 1), ('37', 3), ('37', 3), ('17', 3), ('15', 4), ('15', 4), ('04', 5), ('04', 5), ('02', 3), ('01', 3), ('05', 6), ('03', 2), ('65', 1), ('02', 3), ('02', 3), ('00', 2), ('00', 2), ('08', 5), ('06', 2), ('05', 6), ('49', 1), ('47', 2), ('47', 2), ('82', 2), ('33', 5), ('32', 2), ('31', 1), ('82', 2), ('07', 3), ('05', 6), ('05', 6), ('51', 1), ('23', 3)]\n",
      "[('09', 6), ('18', 2), ('16', 6), ('15', 4), ('15', 4), ('14', 2), ('11', 11), ('11', 11), ('11', 11), ('11', 11), ('11', 11), ('11', 11), ('10', 8), ('10', 8), ('10', 8), ('09', 6), ('07', 3), ('06', 2), ('04', 5), ('04', 5), ('04', 5), ('19', 1), ('17', 3), ('17', 3), ('16', 6), ('16', 6), ('16', 6), ('14', 2), ('12', 3), ('12', 3), ('32', 2), ('10', 8), ('08', 5), ('08', 5), ('10', 8), ('09', 6), ('09', 6), ('87', 1), ('46', 1), ('44', 2), ('44', 2), ('03', 2), ('01', 3), ('01', 3), ('88', 1), ('50', 1), ('48', 2), ('48', 2), ('37', 3), ('35', 3), ('35', 3), ('58', 1), ('35', 3), ('33', 5), ('33', 5), ('71', 1), ('12', 3), ('11', 11), ('11', 11), ('11', 11), ('10', 8), ('10', 8), ('11', 11), ('09', 6), ('09', 6), ('11', 11), ('10', 8), ('08', 5), ('08', 5), ('38', 1), ('37', 3), ('37', 3), ('17', 3), ('15', 4), ('15', 4), ('04', 5), ('04', 5), ('02', 3), ('01', 3), ('05', 6), ('03', 2), ('65', 1), ('02', 3), ('02', 3), ('00', 2), ('00', 2), ('08', 5), ('06', 2), ('05', 6), ('49', 1), ('47', 2), ('47', 2), ('82', 2), ('33', 5), ('32', 2), ('31', 1), ('82', 2), ('07', 3), ('05', 6), ('05', 6), ('51', 1), ('23', 3), ('23', 3)]\n",
      "[('09', 6), ('18', 2), ('16', 6), ('15', 4), ('15', 4), ('14', 2), ('11', 11), ('11', 11), ('11', 11), ('11', 11), ('11', 11), ('11', 11), ('10', 8), ('10', 8), ('10', 8), ('09', 6), ('07', 3), ('06', 2), ('04', 5), ('04', 5), ('04', 5), ('19', 1), ('17', 3), ('17', 3), ('16', 6), ('16', 6), ('16', 6), ('14', 2), ('12', 3), ('12', 3), ('32', 2), ('10', 8), ('08', 5), ('08', 5), ('10', 8), ('09', 6), ('09', 6), ('87', 1), ('46', 1), ('44', 2), ('44', 2), ('03', 2), ('01', 3), ('01', 3), ('88', 1), ('50', 1), ('48', 2), ('48', 2), ('37', 3), ('35', 3), ('35', 3), ('58', 1), ('35', 3), ('33', 5), ('33', 5), ('71', 1), ('12', 3), ('11', 11), ('11', 11), ('11', 11), ('10', 8), ('10', 8), ('11', 11), ('09', 6), ('09', 6), ('11', 11), ('10', 8), ('08', 5), ('08', 5), ('38', 1), ('37', 3), ('37', 3), ('17', 3), ('15', 4), ('15', 4), ('04', 5), ('04', 5), ('02', 3), ('01', 3), ('05', 6), ('03', 2), ('65', 1), ('02', 3), ('02', 3), ('00', 2), ('00', 2), ('08', 5), ('06', 2), ('05', 6), ('49', 1), ('47', 2), ('47', 2), ('82', 2), ('33', 5), ('32', 2), ('31', 1), ('82', 2), ('07', 3), ('05', 6), ('05', 6), ('51', 1), ('23', 3), ('23', 3), ('18', 2)]\n",
      "[('09', 6), ('18', 2), ('16', 6), ('15', 4), ('15', 4), ('14', 2), ('11', 11), ('11', 11), ('11', 11), ('11', 11), ('11', 11), ('11', 11), ('10', 8), ('10', 8), ('10', 8), ('09', 6), ('07', 3), ('06', 2), ('04', 5), ('04', 5), ('04', 5), ('19', 1), ('17', 3), ('17', 3), ('16', 6), ('16', 6), ('16', 6), ('14', 2), ('12', 3), ('12', 3), ('32', 2), ('10', 8), ('08', 5), ('08', 5), ('10', 8), ('09', 6), ('09', 6), ('87', 1), ('46', 1), ('44', 2), ('44', 2), ('03', 2), ('01', 3), ('01', 3), ('88', 1), ('50', 1), ('48', 2), ('48', 2), ('37', 3), ('35', 3), ('35', 3), ('58', 1), ('35', 3), ('33', 5), ('33', 5), ('71', 1), ('12', 3), ('11', 11), ('11', 11), ('11', 11), ('10', 8), ('10', 8), ('11', 11), ('09', 6), ('09', 6), ('11', 11), ('10', 8), ('08', 5), ('08', 5), ('38', 1), ('37', 3), ('37', 3), ('17', 3), ('15', 4), ('15', 4), ('04', 5), ('04', 5), ('02', 3), ('01', 3), ('05', 6), ('03', 2), ('65', 1), ('02', 3), ('02', 3), ('00', 2), ('00', 2), ('08', 5), ('06', 2), ('05', 6), ('49', 1), ('47', 2), ('47', 2), ('82', 2), ('33', 5), ('32', 2), ('31', 1), ('82', 2), ('07', 3), ('05', 6), ('05', 6), ('51', 1), ('23', 3), ('23', 3), ('18', 2), ('16', 6)]\n",
      "[('09', 6), ('18', 2), ('16', 6), ('15', 4), ('15', 4), ('14', 2), ('11', 11), ('11', 11), ('11', 11), ('11', 11), ('11', 11), ('11', 11), ('10', 8), ('10', 8), ('10', 8), ('09', 6), ('07', 3), ('06', 2), ('04', 5), ('04', 5), ('04', 5), ('19', 1), ('17', 3), ('17', 3), ('16', 6), ('16', 6), ('16', 6), ('14', 2), ('12', 3), ('12', 3), ('32', 2), ('10', 8), ('08', 5), ('08', 5), ('10', 8), ('09', 6), ('09', 6), ('87', 1), ('46', 1), ('44', 2), ('44', 2), ('03', 2), ('01', 3), ('01', 3), ('88', 1), ('50', 1), ('48', 2), ('48', 2), ('37', 3), ('35', 3), ('35', 3), ('58', 1), ('35', 3), ('33', 5), ('33', 5), ('71', 1), ('12', 3), ('11', 11), ('11', 11), ('11', 11), ('10', 8), ('10', 8), ('11', 11), ('09', 6), ('09', 6), ('11', 11), ('10', 8), ('08', 5), ('08', 5), ('38', 1), ('37', 3), ('37', 3), ('17', 3), ('15', 4), ('15', 4), ('04', 5), ('04', 5), ('02', 3), ('01', 3), ('05', 6), ('03', 2), ('65', 1), ('02', 3), ('02', 3), ('00', 2), ('00', 2), ('08', 5), ('06', 2), ('05', 6), ('49', 1), ('47', 2), ('47', 2), ('82', 2), ('33', 5), ('32', 2), ('31', 1), ('82', 2), ('07', 3), ('05', 6), ('05', 6), ('51', 1), ('23', 3), ('23', 3), ('18', 2), ('16', 6), ('16', 6)]\n",
      "[('09', 6), ('18', 2), ('16', 6), ('15', 4), ('15', 4), ('14', 2), ('11', 11), ('11', 11), ('11', 11), ('11', 11), ('11', 11), ('11', 11), ('10', 8), ('10', 8), ('10', 8), ('09', 6), ('07', 3), ('06', 2), ('04', 5), ('04', 5), ('04', 5), ('19', 1), ('17', 3), ('17', 3), ('16', 6), ('16', 6), ('16', 6), ('14', 2), ('12', 3), ('12', 3), ('32', 2), ('10', 8), ('08', 5), ('08', 5), ('10', 8), ('09', 6), ('09', 6), ('87', 1), ('46', 1), ('44', 2), ('44', 2), ('03', 2), ('01', 3), ('01', 3), ('88', 1), ('50', 1), ('48', 2), ('48', 2), ('37', 3), ('35', 3), ('35', 3), ('58', 1), ('35', 3), ('33', 5), ('33', 5), ('71', 1), ('12', 3), ('11', 11), ('11', 11), ('11', 11), ('10', 8), ('10', 8), ('11', 11), ('09', 6), ('09', 6), ('11', 11), ('10', 8), ('08', 5), ('08', 5), ('38', 1), ('37', 3), ('37', 3), ('17', 3), ('15', 4), ('15', 4), ('04', 5), ('04', 5), ('02', 3), ('01', 3), ('05', 6), ('03', 2), ('65', 1), ('02', 3), ('02', 3), ('00', 2), ('00', 2), ('08', 5), ('06', 2), ('05', 6), ('49', 1), ('47', 2), ('47', 2), ('82', 2), ('33', 5), ('32', 2), ('31', 1), ('82', 2), ('07', 3), ('05', 6), ('05', 6), ('51', 1), ('23', 3), ('23', 3), ('18', 2), ('16', 6), ('16', 6), ('07', 3)]\n",
      "[('09', 6), ('18', 2), ('16', 6), ('15', 4), ('15', 4), ('14', 2), ('11', 11), ('11', 11), ('11', 11), ('11', 11), ('11', 11), ('11', 11), ('10', 8), ('10', 8), ('10', 8), ('09', 6), ('07', 3), ('06', 2), ('04', 5), ('04', 5), ('04', 5), ('19', 1), ('17', 3), ('17', 3), ('16', 6), ('16', 6), ('16', 6), ('14', 2), ('12', 3), ('12', 3), ('32', 2), ('10', 8), ('08', 5), ('08', 5), ('10', 8), ('09', 6), ('09', 6), ('87', 1), ('46', 1), ('44', 2), ('44', 2), ('03', 2), ('01', 3), ('01', 3), ('88', 1), ('50', 1), ('48', 2), ('48', 2), ('37', 3), ('35', 3), ('35', 3), ('58', 1), ('35', 3), ('33', 5), ('33', 5), ('71', 1), ('12', 3), ('11', 11), ('11', 11), ('11', 11), ('10', 8), ('10', 8), ('11', 11), ('09', 6), ('09', 6), ('11', 11), ('10', 8), ('08', 5), ('08', 5), ('38', 1), ('37', 3), ('37', 3), ('17', 3), ('15', 4), ('15', 4), ('04', 5), ('04', 5), ('02', 3), ('01', 3), ('05', 6), ('03', 2), ('65', 1), ('02', 3), ('02', 3), ('00', 2), ('00', 2), ('08', 5), ('06', 2), ('05', 6), ('49', 1), ('47', 2), ('47', 2), ('82', 2), ('33', 5), ('32', 2), ('31', 1), ('82', 2), ('07', 3), ('05', 6), ('05', 6), ('51', 1), ('23', 3), ('23', 3), ('18', 2), ('16', 6), ('16', 6), ('07', 3), ('05', 6)]\n",
      "[('09', 6), ('18', 2), ('16', 6), ('15', 4), ('15', 4), ('14', 2), ('11', 11), ('11', 11), ('11', 11), ('11', 11), ('11', 11), ('11', 11), ('10', 8), ('10', 8), ('10', 8), ('09', 6), ('07', 3), ('06', 2), ('04', 5), ('04', 5), ('04', 5), ('19', 1), ('17', 3), ('17', 3), ('16', 6), ('16', 6), ('16', 6), ('14', 2), ('12', 3), ('12', 3), ('32', 2), ('10', 8), ('08', 5), ('08', 5), ('10', 8), ('09', 6), ('09', 6), ('87', 1), ('46', 1), ('44', 2), ('44', 2), ('03', 2), ('01', 3), ('01', 3), ('88', 1), ('50', 1), ('48', 2), ('48', 2), ('37', 3), ('35', 3), ('35', 3), ('58', 1), ('35', 3), ('33', 5), ('33', 5), ('71', 1), ('12', 3), ('11', 11), ('11', 11), ('11', 11), ('10', 8), ('10', 8), ('11', 11), ('09', 6), ('09', 6), ('11', 11), ('10', 8), ('08', 5), ('08', 5), ('38', 1), ('37', 3), ('37', 3), ('17', 3), ('15', 4), ('15', 4), ('04', 5), ('04', 5), ('02', 3), ('01', 3), ('05', 6), ('03', 2), ('65', 1), ('02', 3), ('02', 3), ('00', 2), ('00', 2), ('08', 5), ('06', 2), ('05', 6), ('49', 1), ('47', 2), ('47', 2), ('82', 2), ('33', 5), ('32', 2), ('31', 1), ('82', 2), ('07', 3), ('05', 6), ('05', 6), ('51', 1), ('23', 3), ('23', 3), ('18', 2), ('16', 6), ('16', 6), ('07', 3), ('05', 6), ('05', 6)]\n",
      "[('09', 6), ('18', 2), ('16', 6), ('15', 4), ('15', 4), ('14', 2), ('11', 11), ('11', 11), ('11', 11), ('11', 11), ('11', 11), ('11', 11), ('10', 8), ('10', 8), ('10', 8), ('09', 6), ('07', 3), ('06', 2), ('04', 5), ('04', 5), ('04', 5), ('19', 1), ('17', 3), ('17', 3), ('16', 6), ('16', 6), ('16', 6), ('14', 2), ('12', 3), ('12', 3), ('32', 2), ('10', 8), ('08', 5), ('08', 5), ('10', 8), ('09', 6), ('09', 6), ('87', 1), ('46', 1), ('44', 2), ('44', 2), ('03', 2), ('01', 3), ('01', 3), ('88', 1), ('50', 1), ('48', 2), ('48', 2), ('37', 3), ('35', 3), ('35', 3), ('58', 1), ('35', 3), ('33', 5), ('33', 5), ('71', 1), ('12', 3), ('11', 11), ('11', 11), ('11', 11), ('10', 8), ('10', 8), ('11', 11), ('09', 6), ('09', 6), ('11', 11), ('10', 8), ('08', 5), ('08', 5), ('38', 1), ('37', 3), ('37', 3), ('17', 3), ('15', 4), ('15', 4), ('04', 5), ('04', 5), ('02', 3), ('01', 3), ('05', 6), ('03', 2), ('65', 1), ('02', 3), ('02', 3), ('00', 2), ('00', 2), ('08', 5), ('06', 2), ('05', 6), ('49', 1), ('47', 2), ('47', 2), ('82', 2), ('33', 5), ('32', 2), ('31', 1), ('82', 2), ('07', 3), ('05', 6), ('05', 6), ('51', 1), ('23', 3), ('23', 3), ('18', 2), ('16', 6), ('16', 6), ('07', 3), ('05', 6), ('05', 6), ('34', 1)]\n",
      "[('09', 6), ('18', 2), ('16', 6), ('15', 4), ('15', 4), ('14', 2), ('11', 11), ('11', 11), ('11', 11), ('11', 11), ('11', 11), ('11', 11), ('10', 8), ('10', 8), ('10', 8), ('09', 6), ('07', 3), ('06', 2), ('04', 5), ('04', 5), ('04', 5), ('19', 1), ('17', 3), ('17', 3), ('16', 6), ('16', 6), ('16', 6), ('14', 2), ('12', 3), ('12', 3), ('32', 2), ('10', 8), ('08', 5), ('08', 5), ('10', 8), ('09', 6), ('09', 6), ('87', 1), ('46', 1), ('44', 2), ('44', 2), ('03', 2), ('01', 3), ('01', 3), ('88', 1), ('50', 1), ('48', 2), ('48', 2), ('37', 3), ('35', 3), ('35', 3), ('58', 1), ('35', 3), ('33', 5), ('33', 5), ('71', 1), ('12', 3), ('11', 11), ('11', 11), ('11', 11), ('10', 8), ('10', 8), ('11', 11), ('09', 6), ('09', 6), ('11', 11), ('10', 8), ('08', 5), ('08', 5), ('38', 1), ('37', 3), ('37', 3), ('17', 3), ('15', 4), ('15', 4), ('04', 5), ('04', 5), ('02', 3), ('01', 3), ('05', 6), ('03', 2), ('65', 1), ('02', 3), ('02', 3), ('00', 2), ('00', 2), ('08', 5), ('06', 2), ('05', 6), ('49', 1), ('47', 2), ('47', 2), ('82', 2), ('33', 5), ('32', 2), ('31', 1), ('82', 2), ('07', 3), ('05', 6), ('05', 6), ('51', 1), ('23', 3), ('23', 3), ('18', 2), ('16', 6), ('16', 6), ('07', 3), ('05', 6), ('05', 6), ('34', 1), ('33', 5)]\n",
      "[('09', 6), ('18', 2), ('16', 6), ('15', 4), ('15', 4), ('14', 2), ('11', 11), ('11', 11), ('11', 11), ('11', 11), ('11', 11), ('11', 11), ('10', 8), ('10', 8), ('10', 8), ('09', 6), ('07', 3), ('06', 2), ('04', 5), ('04', 5), ('04', 5), ('19', 1), ('17', 3), ('17', 3), ('16', 6), ('16', 6), ('16', 6), ('14', 2), ('12', 3), ('12', 3), ('32', 2), ('10', 8), ('08', 5), ('08', 5), ('10', 8), ('09', 6), ('09', 6), ('87', 1), ('46', 1), ('44', 2), ('44', 2), ('03', 2), ('01', 3), ('01', 3), ('88', 1), ('50', 1), ('48', 2), ('48', 2), ('37', 3), ('35', 3), ('35', 3), ('58', 1), ('35', 3), ('33', 5), ('33', 5), ('71', 1), ('12', 3), ('11', 11), ('11', 11), ('11', 11), ('10', 8), ('10', 8), ('11', 11), ('09', 6), ('09', 6), ('11', 11), ('10', 8), ('08', 5), ('08', 5), ('38', 1), ('37', 3), ('37', 3), ('17', 3), ('15', 4), ('15', 4), ('04', 5), ('04', 5), ('02', 3), ('01', 3), ('05', 6), ('03', 2), ('65', 1), ('02', 3), ('02', 3), ('00', 2), ('00', 2), ('08', 5), ('06', 2), ('05', 6), ('49', 1), ('47', 2), ('47', 2), ('82', 2), ('33', 5), ('32', 2), ('31', 1), ('82', 2), ('07', 3), ('05', 6), ('05', 6), ('51', 1), ('23', 3), ('23', 3), ('18', 2), ('16', 6), ('16', 6), ('07', 3), ('05', 6), ('05', 6), ('34', 1), ('33', 5), ('33', 5)]\n",
      "[('09', 6), ('18', 2), ('16', 6), ('15', 4), ('15', 4), ('14', 2), ('11', 11), ('11', 11), ('11', 11), ('11', 11), ('11', 11), ('11', 11), ('10', 8), ('10', 8), ('10', 8), ('09', 6), ('07', 3), ('06', 2), ('04', 5), ('04', 5), ('04', 5), ('19', 1), ('17', 3), ('17', 3), ('16', 6), ('16', 6), ('16', 6), ('14', 2), ('12', 3), ('12', 3), ('32', 2), ('10', 8), ('08', 5), ('08', 5), ('10', 8), ('09', 6), ('09', 6), ('87', 1), ('46', 1), ('44', 2), ('44', 2), ('03', 2), ('01', 3), ('01', 3), ('88', 1), ('50', 1), ('48', 2), ('48', 2), ('37', 3), ('35', 3), ('35', 3), ('58', 1), ('35', 3), ('33', 5), ('33', 5), ('71', 1), ('12', 3), ('11', 11), ('11', 11), ('11', 11), ('10', 8), ('10', 8), ('11', 11), ('09', 6), ('09', 6), ('11', 11), ('10', 8), ('08', 5), ('08', 5), ('38', 1), ('37', 3), ('37', 3), ('17', 3), ('15', 4), ('15', 4), ('04', 5), ('04', 5), ('02', 3), ('01', 3), ('05', 6), ('03', 2), ('65', 1), ('02', 3), ('02', 3), ('00', 2), ('00', 2), ('08', 5), ('06', 2), ('05', 6), ('49', 1), ('47', 2), ('47', 2), ('82', 2), ('33', 5), ('32', 2), ('31', 1), ('82', 2), ('07', 3), ('05', 6), ('05', 6), ('51', 1), ('23', 3), ('23', 3), ('18', 2), ('16', 6), ('16', 6), ('07', 3), ('05', 6), ('05', 6), ('34', 1), ('33', 5), ('33', 5), ('29', 1)]\n",
      "[('09', 6), ('18', 2), ('16', 6), ('15', 4), ('15', 4), ('14', 2), ('11', 11), ('11', 11), ('11', 11), ('11', 11), ('11', 11), ('11', 11), ('10', 8), ('10', 8), ('10', 8), ('09', 6), ('07', 3), ('06', 2), ('04', 5), ('04', 5), ('04', 5), ('19', 1), ('17', 3), ('17', 3), ('16', 6), ('16', 6), ('16', 6), ('14', 2), ('12', 3), ('12', 3), ('32', 2), ('10', 8), ('08', 5), ('08', 5), ('10', 8), ('09', 6), ('09', 6), ('87', 1), ('46', 1), ('44', 2), ('44', 2), ('03', 2), ('01', 3), ('01', 3), ('88', 1), ('50', 1), ('48', 2), ('48', 2), ('37', 3), ('35', 3), ('35', 3), ('58', 1), ('35', 3), ('33', 5), ('33', 5), ('71', 1), ('12', 3), ('11', 11), ('11', 11), ('11', 11), ('10', 8), ('10', 8), ('11', 11), ('09', 6), ('09', 6), ('11', 11), ('10', 8), ('08', 5), ('08', 5), ('38', 1), ('37', 3), ('37', 3), ('17', 3), ('15', 4), ('15', 4), ('04', 5), ('04', 5), ('02', 3), ('01', 3), ('05', 6), ('03', 2), ('65', 1), ('02', 3), ('02', 3), ('00', 2), ('00', 2), ('08', 5), ('06', 2), ('05', 6), ('49', 1), ('47', 2), ('47', 2), ('82', 2), ('33', 5), ('32', 2), ('31', 1), ('82', 2), ('07', 3), ('05', 6), ('05', 6), ('51', 1), ('23', 3), ('23', 3), ('18', 2), ('16', 6), ('16', 6), ('07', 3), ('05', 6), ('05', 6), ('34', 1), ('33', 5), ('33', 5), ('29', 1), ('27', 2)]\n",
      "[('09', 6), ('18', 2), ('16', 6), ('15', 4), ('15', 4), ('14', 2), ('11', 11), ('11', 11), ('11', 11), ('11', 11), ('11', 11), ('11', 11), ('10', 8), ('10', 8), ('10', 8), ('09', 6), ('07', 3), ('06', 2), ('04', 5), ('04', 5), ('04', 5), ('19', 1), ('17', 3), ('17', 3), ('16', 6), ('16', 6), ('16', 6), ('14', 2), ('12', 3), ('12', 3), ('32', 2), ('10', 8), ('08', 5), ('08', 5), ('10', 8), ('09', 6), ('09', 6), ('87', 1), ('46', 1), ('44', 2), ('44', 2), ('03', 2), ('01', 3), ('01', 3), ('88', 1), ('50', 1), ('48', 2), ('48', 2), ('37', 3), ('35', 3), ('35', 3), ('58', 1), ('35', 3), ('33', 5), ('33', 5), ('71', 1), ('12', 3), ('11', 11), ('11', 11), ('11', 11), ('10', 8), ('10', 8), ('11', 11), ('09', 6), ('09', 6), ('11', 11), ('10', 8), ('08', 5), ('08', 5), ('38', 1), ('37', 3), ('37', 3), ('17', 3), ('15', 4), ('15', 4), ('04', 5), ('04', 5), ('02', 3), ('01', 3), ('05', 6), ('03', 2), ('65', 1), ('02', 3), ('02', 3), ('00', 2), ('00', 2), ('08', 5), ('06', 2), ('05', 6), ('49', 1), ('47', 2), ('47', 2), ('82', 2), ('33', 5), ('32', 2), ('31', 1), ('82', 2), ('07', 3), ('05', 6), ('05', 6), ('51', 1), ('23', 3), ('23', 3), ('18', 2), ('16', 6), ('16', 6), ('07', 3), ('05', 6), ('05', 6), ('34', 1), ('33', 5), ('33', 5), ('29', 1), ('27', 2), ('27', 2)]\n",
      "[('09', 6), ('18', 2), ('16', 6), ('15', 4), ('15', 4), ('14', 2), ('11', 11), ('11', 11), ('11', 11), ('11', 11), ('11', 11), ('11', 11), ('10', 8), ('10', 8), ('10', 8), ('09', 6), ('07', 3), ('06', 2), ('04', 5), ('04', 5), ('04', 5), ('19', 1), ('17', 3), ('17', 3), ('16', 6), ('16', 6), ('16', 6), ('14', 2), ('12', 3), ('12', 3), ('32', 2), ('10', 8), ('08', 5), ('08', 5), ('10', 8), ('09', 6), ('09', 6), ('87', 1), ('46', 1), ('44', 2), ('44', 2), ('03', 2), ('01', 3), ('01', 3), ('88', 1), ('50', 1), ('48', 2), ('48', 2), ('37', 3), ('35', 3), ('35', 3), ('58', 1), ('35', 3), ('33', 5), ('33', 5), ('71', 1), ('12', 3), ('11', 11), ('11', 11), ('11', 11), ('10', 8), ('10', 8), ('11', 11), ('09', 6), ('09', 6), ('11', 11), ('10', 8), ('08', 5), ('08', 5), ('38', 1), ('37', 3), ('37', 3), ('17', 3), ('15', 4), ('15', 4), ('04', 5), ('04', 5), ('02', 3), ('01', 3), ('05', 6), ('03', 2), ('65', 1), ('02', 3), ('02', 3), ('00', 2), ('00', 2), ('08', 5), ('06', 2), ('05', 6), ('49', 1), ('47', 2), ('47', 2), ('82', 2), ('33', 5), ('32', 2), ('31', 1), ('82', 2), ('07', 3), ('05', 6), ('05', 6), ('51', 1), ('23', 3), ('23', 3), ('18', 2), ('16', 6), ('16', 6), ('07', 3), ('05', 6), ('05', 6), ('34', 1), ('33', 5), ('33', 5), ('29', 1), ('27', 2), ('27', 2), ('23', 3)]\n",
      "[('09', 6), ('18', 2), ('16', 6), ('15', 4), ('15', 4), ('14', 2), ('11', 11), ('11', 11), ('11', 11), ('11', 11), ('11', 11), ('11', 11), ('10', 8), ('10', 8), ('10', 8), ('09', 6), ('07', 3), ('06', 2), ('04', 5), ('04', 5), ('04', 5), ('19', 1), ('17', 3), ('17', 3), ('16', 6), ('16', 6), ('16', 6), ('14', 2), ('12', 3), ('12', 3), ('32', 2), ('10', 8), ('08', 5), ('08', 5), ('10', 8), ('09', 6), ('09', 6), ('87', 1), ('46', 1), ('44', 2), ('44', 2), ('03', 2), ('01', 3), ('01', 3), ('88', 1), ('50', 1), ('48', 2), ('48', 2), ('37', 3), ('35', 3), ('35', 3), ('58', 1), ('35', 3), ('33', 5), ('33', 5), ('71', 1), ('12', 3), ('11', 11), ('11', 11), ('11', 11), ('10', 8), ('10', 8), ('11', 11), ('09', 6), ('09', 6), ('11', 11), ('10', 8), ('08', 5), ('08', 5), ('38', 1), ('37', 3), ('37', 3), ('17', 3), ('15', 4), ('15', 4), ('04', 5), ('04', 5), ('02', 3), ('01', 3), ('05', 6), ('03', 2), ('65', 1), ('02', 3), ('02', 3), ('00', 2), ('00', 2), ('08', 5), ('06', 2), ('05', 6), ('49', 1), ('47', 2), ('47', 2), ('82', 2), ('33', 5), ('32', 2), ('31', 1), ('82', 2), ('07', 3), ('05', 6), ('05', 6), ('51', 1), ('23', 3), ('23', 3), ('18', 2), ('16', 6), ('16', 6), ('07', 3), ('05', 6), ('05', 6), ('34', 1), ('33', 5), ('33', 5), ('29', 1), ('27', 2), ('27', 2), ('23', 3), ('22', 2)]\n",
      "[('09', 6), ('18', 2), ('16', 6), ('15', 4), ('15', 4), ('14', 2), ('11', 11), ('11', 11), ('11', 11), ('11', 11), ('11', 11), ('11', 11), ('10', 8), ('10', 8), ('10', 8), ('09', 6), ('07', 3), ('06', 2), ('04', 5), ('04', 5), ('04', 5), ('19', 1), ('17', 3), ('17', 3), ('16', 6), ('16', 6), ('16', 6), ('14', 2), ('12', 3), ('12', 3), ('32', 2), ('10', 8), ('08', 5), ('08', 5), ('10', 8), ('09', 6), ('09', 6), ('87', 1), ('46', 1), ('44', 2), ('44', 2), ('03', 2), ('01', 3), ('01', 3), ('88', 1), ('50', 1), ('48', 2), ('48', 2), ('37', 3), ('35', 3), ('35', 3), ('58', 1), ('35', 3), ('33', 5), ('33', 5), ('71', 1), ('12', 3), ('11', 11), ('11', 11), ('11', 11), ('10', 8), ('10', 8), ('11', 11), ('09', 6), ('09', 6), ('11', 11), ('10', 8), ('08', 5), ('08', 5), ('38', 1), ('37', 3), ('37', 3), ('17', 3), ('15', 4), ('15', 4), ('04', 5), ('04', 5), ('02', 3), ('01', 3), ('05', 6), ('03', 2), ('65', 1), ('02', 3), ('02', 3), ('00', 2), ('00', 2), ('08', 5), ('06', 2), ('05', 6), ('49', 1), ('47', 2), ('47', 2), ('82', 2), ('33', 5), ('32', 2), ('31', 1), ('82', 2), ('07', 3), ('05', 6), ('05', 6), ('51', 1), ('23', 3), ('23', 3), ('18', 2), ('16', 6), ('16', 6), ('07', 3), ('05', 6), ('05', 6), ('34', 1), ('33', 5), ('33', 5), ('29', 1), ('27', 2), ('27', 2), ('23', 3), ('22', 2), ('22', 2)]\n"
     ]
    }
   ],
   "source": [
    "import re\n",
    "import numpy as np\n",
    "import matplotlib.pyplot as plt\n",
    "lst1=[]\n",
    "lst2=[]\n",
    "lst3=[]\n",
    "fopen=open('mbox-short.txt')\n",
    "for line in fopen:\n",
    "    line=line.rstrip()\n",
    "    #ls=re.findall('^D\\S*:.*rev=([0-9.]+)',line)\n",
    "    #ls=re.findall('^From.* ([0-9]{2}):[0-9]{2}.*',line)\n",
    "    frm='^From.* ([0-9]{2}):'\n",
    "    rec='^[a-zA-z]{3}.*([0-9][0-9]):'\n",
    "    x=re.findall(frm,line)\n",
    "    if len(x)>0:\n",
    "        lst1.extend(x)\n",
    "        #print(lst1)\n",
    "    \n",
    "    \n",
    "    y=re.findall(rec,line)\n",
    "    if len(y)>0:\n",
    "        lst2.extend(y)\n",
    "        #print(lst2)\n",
    "        \n",
    "lst3=lst1+lst2\n",
    "#print(lst3)\n",
    "\n",
    "\n",
    "freq=[]\n",
    "for i in lst3:\n",
    "    freq.append((i,lst3.count(i)))\n",
    "    print(freq)\n",
    "    \n",
    "hist=list(set(freq))\n",
    "hist.sort(key=lambda x:(x[1],x[0]),reverse=True)\n",
    "#print(hist)\n",
    "#plt.plot(hist)\n",
    "        \n",
    "\n",
    "#print(lst)\n"
   ]
  },
  {
   "cell_type": "code",
   "execution_count": 14,
   "metadata": {},
   "outputs": [
    {
     "name": "stdout",
     "output_type": "stream",
     "text": [
      "[('02', 3), ('71', 1), ('35', 3), ('50', 1), ('29', 1), ('37', 3), ('19', 1), ('17', 3), ('46', 1), ('03', 2), ('47', 2), ('51', 1), ('14', 2), ('65', 1), ('00', 2), ('07', 3), ('44', 2), ('15', 4), ('22', 2), ('82', 2), ('16', 6), ('23', 3), ('27', 2), ('12', 3), ('04', 5), ('05', 6), ('06', 2), ('09', 6), ('08', 5), ('32', 2), ('88', 1), ('11', 11), ('34', 1), ('58', 1), ('33', 5), ('87', 1), ('01', 3), ('31', 1), ('49', 1), ('38', 1), ('10', 8), ('18', 2), ('48', 2)]\n"
     ]
    }
   ],
   "source": [
    "freq=[]\n",
    "for i in lst3:\n",
    "    freq.append((i,lst3.count(i)))\n",
    "    \n",
    "hist=list(set(freq))\n",
    "print(hist)\n",
    "    "
   ]
  },
  {
   "cell_type": "code",
   "execution_count": null,
   "metadata": {},
   "outputs": [],
   "source": []
  },
  {
   "cell_type": "code",
   "execution_count": null,
   "metadata": {},
   "outputs": [],
   "source": []
  },
  {
   "cell_type": "code",
   "execution_count": null,
   "metadata": {},
   "outputs": [],
   "source": []
  },
  {
   "cell_type": "code",
   "execution_count": null,
   "metadata": {},
   "outputs": [],
   "source": []
  },
  {
   "cell_type": "code",
   "execution_count": null,
   "metadata": {},
   "outputs": [],
   "source": []
  },
  {
   "cell_type": "code",
   "execution_count": null,
   "metadata": {},
   "outputs": [],
   "source": []
  },
  {
   "cell_type": "code",
   "execution_count": null,
   "metadata": {},
   "outputs": [],
   "source": []
  },
  {
   "cell_type": "code",
   "execution_count": null,
   "metadata": {},
   "outputs": [],
   "source": []
  },
  {
   "cell_type": "code",
   "execution_count": null,
   "metadata": {},
   "outputs": [],
   "source": []
  },
  {
   "cell_type": "code",
   "execution_count": null,
   "metadata": {},
   "outputs": [],
   "source": []
  },
  {
   "cell_type": "code",
   "execution_count": null,
   "metadata": {},
   "outputs": [],
   "source": []
  },
  {
   "cell_type": "code",
   "execution_count": null,
   "metadata": {},
   "outputs": [],
   "source": []
  },
  {
   "cell_type": "code",
   "execution_count": null,
   "metadata": {},
   "outputs": [],
   "source": []
  },
  {
   "cell_type": "code",
   "execution_count": null,
   "metadata": {},
   "outputs": [],
   "source": []
  },
  {
   "cell_type": "code",
   "execution_count": null,
   "metadata": {},
   "outputs": [],
   "source": []
  },
  {
   "cell_type": "code",
   "execution_count": null,
   "metadata": {},
   "outputs": [],
   "source": []
  }
 ],
 "metadata": {
  "kernelspec": {
   "display_name": "Python 3",
   "language": "python",
   "name": "python3"
  },
  "language_info": {
   "codemirror_mode": {
    "name": "ipython",
    "version": 3
   },
   "file_extension": ".py",
   "mimetype": "text/x-python",
   "name": "python",
   "nbconvert_exporter": "python",
   "pygments_lexer": "ipython3",
   "version": "3.7.1"
  }
 },
 "nbformat": 4,
 "nbformat_minor": 2
}
